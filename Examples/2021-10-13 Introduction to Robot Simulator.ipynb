{
 "cells": [
  {
   "cell_type": "code",
   "execution_count": 1,
   "id": "856d7279-5637-422d-9939-a518834b14b4",
   "metadata": {},
   "outputs": [
    {
     "name": "stdout",
     "output_type": "stream",
     "text": [
      "Populating the interactive namespace from numpy and matplotlib\n"
     ]
    }
   ],
   "source": [
    "%pylab inline"
   ]
  },
  {
   "cell_type": "code",
   "execution_count": 2,
   "id": "e2ba1ed1-52df-4285-86bd-a213c6868481",
   "metadata": {},
   "outputs": [
    {
     "name": "stdout",
     "output_type": "stream",
     "text": [
      "Version:  0.0.32\n"
     ]
    }
   ],
   "source": [
    "from RobotSim373 import *"
   ]
  },
  {
   "cell_type": "code",
   "execution_count": 21,
   "id": "457eb702-8c49-494b-808b-f0fcdec2114c",
   "metadata": {},
   "outputs": [],
   "source": [
    "def build(robot):\n",
    "    box1=Box(robot,x=3,y=9.5,name=\"right\")\n",
    "    box2=Box(robot,x=3,y=11.5,name=\"left\")    \n",
    "    \n",
    "    connect(box1,box2,\"weld\")\n",
    "    \n",
    "    disk1=Disk(robot,x=2,y=10.5,name=\"center\")\n",
    "    \n",
    "    connect(disk1,box1,\"distance\")\n",
    "    connect(disk1,box2,\"distance\")    "
   ]
  },
  {
   "cell_type": "code",
   "execution_count": 30,
   "id": "0ca94898-f8f5-433d-90c6-900078424331",
   "metadata": {},
   "outputs": [],
   "source": [
    "def act(t,robot):\n",
    "    \n",
    "    distance=robot['center'].read_distance()\n",
    "    \n",
    "    if distance>10:\n",
    "        robot['left'].F=0.1\n",
    "        robot['right'].F=0.1   \n",
    "    else:\n",
    "        robot['left'].F=0.1\n",
    "        robot['right'].F=0.1   \n",
    "    \n",
    "    robot.message=distance"
   ]
  },
  {
   "cell_type": "code",
   "execution_count": 31,
   "id": "b5556d8a-d76a-404f-b0c1-0375f25b2f7d",
   "metadata": {},
   "outputs": [
    {
     "data": {
      "image/png": "[encoded data removed]",
      "text/plain": [
       "<Figure size 432x432 with 1 Axes>"
      ]
     },
     "metadata": {
      "needs_background": "light"
     },
     "output_type": "display_data"
    }
   ],
   "source": [
    "env=Environment(24,24)\n",
    "robot=Robot(env)\n",
    "build(robot)\n",
    "\n",
    "Box(env,x=15,y=11,width=0.2,height=10)\n",
    "\n",
    "\n",
    "run_sim(env,act,\n",
    "        figure_width=6,\n",
    "       total_time=80,\n",
    "       dt_display=0.5,  # make this larger for a faster display\n",
    "       )"
   ]
  },
  {
   "cell_type": "code",
   "execution_count": null,
   "id": "9108c2f9-1bdb-4098-9a59-fc4de6f9b56a",
   "metadata": {},
   "outputs": [],
   "source": []
  }
 ],
 "metadata": {
  "kernelspec": {
   "display_name": "Python 3",
   "language": "python",
   "name": "python3"
  },
  "language_info": {
   "codemirror_mode": {
    "name": "ipython",
    "version": 3
   },
   "file_extension": ".py",
   "mimetype": "text/x-python",
   "name": "python",
   "nbconvert_exporter": "python",
   "pygments_lexer": "ipython3",
   "version": "3.8.10"
  }
 },
 "nbformat": 4,
 "nbformat_minor": 5
}
