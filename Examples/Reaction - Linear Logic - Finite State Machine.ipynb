{
 "cells": [
  {
   "cell_type": "code",
   "execution_count": null,
   "id": "f8c517f8-206d-4835-a2a5-2a795bb4e648",
   "metadata": {},
   "outputs": [],
   "source": [
    "%pylab inline"
   ]
  },
  {
   "cell_type": "code",
   "execution_count": null,
   "id": "c83bb46f-c7f5-4b56-a85e-b324c0497014",
   "metadata": {},
   "outputs": [],
   "source": [
    "from RobotSim373 import *"
   ]
  },
  {
   "cell_type": "code",
   "execution_count": null,
   "id": "954e5bf8-b8d4-4f0b-ad2b-fceff4c07a21",
   "metadata": {},
   "outputs": [],
   "source": [
    "def build(robot):\n",
    "    box1=Box(robot,3,9.5,name='right')  # location given, width=height=1.0 default\n",
    "    box2=Box(robot,3,11.5,name='left')\n",
    "    \n",
    "    connect(box1,box2,'weld')\n",
    "\n",
    "    disk1=Disk(robot,2,10.5,name='center')  # radius = 0.5 default\n",
    "    \n",
    "    connect(disk1,box1,'distance')\n",
    "    connect(disk1,box2,'distance')\n",
    "    \n",
    "    "
   ]
  },
  {
   "cell_type": "code",
   "execution_count": null,
   "id": "4401a421-2cd6-4534-b876-e1fc9d336a8f",
   "metadata": {},
   "outputs": [],
   "source": [
    "def act(t,robot):\n",
    "    \n",
    "    distance=robot['center'].read_distance()\n",
    "    if distance>10:\n",
    "        robot['left'].F=0.4\n",
    "        robot['right'].F=0.4\n",
    "    else:\n",
    "        robot['left'].F=-0.4\n",
    "        robot['right'].F=-0.4\n",
    "    "
   ]
  },
  {
   "cell_type": "code",
   "execution_count": null,
   "id": "84295ff5-20e7-4fbd-b9bf-50b9be17337f",
   "metadata": {},
   "outputs": [],
   "source": [
    "env=Environment(24,24)  # size of the environment\n",
    "robot=Robot(env)\n",
    "\n",
    "build(robot)\n",
    "\n",
    "# put a bunch of blocks\n",
    "for y in arange(5,15,0.5):\n",
    "    Box(env,20,y,width=0.4,height=0.4,density=0.01)\n",
    "\n",
    "run_sim(env,act,\n",
    "        total_time=80,  # seconds\n",
    "        dt=1/60,\n",
    "        dt_display=.5,  # make this larger for a faster display\n",
    "       )"
   ]
  },
  {
   "cell_type": "code",
   "execution_count": null,
   "id": "ad3e8762-1dcb-422a-95df-14472a694191",
   "metadata": {},
   "outputs": [],
   "source": [
    "robot.read_distances()"
   ]
  },
  {
   "cell_type": "markdown",
   "id": "c906371c-6b7a-48de-9d76-55610edb58bb",
   "metadata": {},
   "source": [
    "## Do this then that"
   ]
  },
  {
   "cell_type": "code",
   "execution_count": null,
   "id": "fd3beca2-e86a-40d3-be6a-600dc80180b4",
   "metadata": {},
   "outputs": [],
   "source": [
    "def act1(t,robot):\n",
    "    robot.message=\"here 1 \",t\n",
    "    \n",
    "    if t>5:\n",
    "        return True\n",
    "    \n",
    "def act2(t,robot):\n",
    "    robot.message=\"here 2\",t\n",
    "\n",
    "    if t>5:\n",
    "        return True\n",
    "    \n",
    "    \n",
    "def act3(t,robot):\n",
    "    robot.message=\"here 3\",t\n",
    "    \n",
    "    if t>5:\n",
    "        return True\n",
    "    "
   ]
  },
  {
   "cell_type": "code",
   "execution_count": null,
   "id": "c9caaf95-d0d4-4731-9aa4-67bee1f0f052",
   "metadata": {},
   "outputs": [],
   "source": [
    "env=Environment(24,24)  # size of the environment\n",
    "robot=Robot(env)\n",
    "\n",
    "build(robot)\n",
    "\n",
    "# put a bunch of blocks\n",
    "for y in arange(5,15,0.5):\n",
    "    Box(env,20,y,width=0.4,height=0.4,density=0.01)\n",
    "\n",
    "run_sim(env,[act1,act2,act3],\n",
    "        total_time=80,  # seconds\n",
    "        dt=1/60,\n",
    "        dt_display=.5,  # make this larger for a faster display\n",
    "       )"
   ]
  },
  {
   "cell_type": "code",
   "execution_count": null,
   "id": "2615763a-efb6-42b0-a37b-6d6ec9c068ce",
   "metadata": {},
   "outputs": [],
   "source": [
    "def forward(t,robot):\n",
    "    robot['left'].F=0.4\n",
    "    robot['right'].F=0.4\n",
    "    return True"
   ]
  },
  {
   "cell_type": "code",
   "execution_count": null,
   "id": "51472b87-d952-4e82-a624-d1e0776c4eed",
   "metadata": {},
   "outputs": [],
   "source": [
    "def backward(t,robot):\n",
    "    robot['left'].F=-0.4\n",
    "    robot['right'].F=-0.4\n",
    "    return True"
   ]
  },
  {
   "cell_type": "code",
   "execution_count": null,
   "id": "b7d7c359-8101-4dcf-92eb-85585b16be39",
   "metadata": {},
   "outputs": [],
   "source": [
    "def until_close(t,robot):\n",
    "    distance=robot['center'].read_distance()\n",
    "    if distance<10:\n",
    "        return True"
   ]
  },
  {
   "cell_type": "code",
   "execution_count": null,
   "id": "38ba8dc1-5fc5-47f0-9b52-3d3faebb4cdc",
   "metadata": {},
   "outputs": [],
   "source": [
    "def until_far(t,robot):\n",
    "    distance=robot['center'].read_distance()\n",
    "    if distance>10:\n",
    "        return True"
   ]
  },
  {
   "cell_type": "code",
   "execution_count": null,
   "id": "73e28799-8df6-43b6-b446-61c7c4d40f40",
   "metadata": {},
   "outputs": [],
   "source": [
    "env=Environment(24,24)  # size of the environment\n",
    "robot=Robot(env)\n",
    "\n",
    "robot=build(robot)\n",
    "\n",
    "# put a bunch of blocks\n",
    "for y in arange(5,15,0.5):\n",
    "    Box(env,20,y,width=0.4,height=0.4,density=0.01)\n",
    "\n",
    "run_sim(env,[forward,until_close,backward,until_far],\n",
    "        total_time=100,  # seconds\n",
    "        dt=1/60,\n",
    "        dt_display=.5,  # make this larger for a faster display\n",
    "       )"
   ]
  },
  {
   "cell_type": "code",
   "execution_count": null,
   "id": "dc1a74cc-eda4-4229-9049-91be96385d95",
   "metadata": {},
   "outputs": [],
   "source": [
    "def forward(t,robot):\n",
    "    robot['left'].F=10\n",
    "    robot['right'].F=10\n",
    "    return True"
   ]
  },
  {
   "cell_type": "code",
   "execution_count": null,
   "id": "9beb5769-3e48-45c8-aa65-e9eff3e87c97",
   "metadata": {},
   "outputs": [],
   "source": [
    "def backward(t,robot):\n",
    "    robot['left'].F=-10\n",
    "    robot['right'].F=-10\n",
    "    return True"
   ]
  },
  {
   "cell_type": "code",
   "execution_count": null,
   "id": "136ac20b-3ac4-434a-835b-2a2aa80fedcc",
   "metadata": {},
   "outputs": [],
   "source": []
  },
  {
   "cell_type": "code",
   "execution_count": null,
   "id": "6685fe89-4607-48c2-9368-ec76116281c7",
   "metadata": {},
   "outputs": [],
   "source": [
    "env=FrictionEnvironment(24,24)  # size of the environment\n",
    "robot=Robot(env)\n",
    "build(robot)\n",
    "\n",
    "# put a bunch of blocks\n",
    "for y in arange(5,15,0.5):\n",
    "    Box(env,20,y,width=0.4,height=0.4,density=0.01)\n",
    "\n",
    "run_sim(env,[forward,until_close,backward,until_far],\n",
    "        total_time=100,  # seconds\n",
    "        dt=1/60,\n",
    "        dt_display=.5,  # make this larger for a faster display\n",
    "       )"
   ]
  },
  {
   "cell_type": "markdown",
   "id": "fec59006-ba62-4195-82c3-d6ae7460dab4",
   "metadata": {},
   "source": [
    "## Finite State Machine"
   ]
  },
  {
   "cell_type": "code",
   "execution_count": null,
   "id": "35927fbb-1dca-4e64-90c5-f80af9706a59",
   "metadata": {},
   "outputs": [],
   "source": [
    "state_machine=StateMachine(\n",
    "    (forward,'until_close'),\n",
    "    (until_close,'backward'),\n",
    "    (backward,'until_far'),\n",
    "    (until_far,'forward'),\n",
    ")\n",
    "\n",
    "\n",
    "def monitor(t,robot):\n",
    "    robot.message=robot.controller.current_state\n"
   ]
  },
  {
   "cell_type": "code",
   "execution_count": null,
   "id": "bd55412e-2bd1-4d35-b79b-1dce893e55ae",
   "metadata": {},
   "outputs": [],
   "source": [
    "env=FrictionEnvironment(24,24)  # size of the environment\n",
    "robot=Robot(env)\n",
    "\n",
    "build(robot)\n",
    "robot.controller=Controller(state_machine)\n",
    "robot.controller.monitor=monitor\n",
    "\n",
    "# put a bunch of blocks\n",
    "for y in arange(5,15,0.5):\n",
    "    Box(env,20,y,width=0.4,height=0.4,density=0.01)\n",
    "\n",
    "run_sim(env,robot.controller,\n",
    "        total_time=100,  # seconds\n",
    "        dt=1/60,\n",
    "        dt_display=.5,  # make this larger for a faster display\n",
    "       )"
   ]
  },
  {
   "cell_type": "markdown",
   "id": "5b8caf89-095d-4e5e-896f-58ddebd1f774",
   "metadata": {},
   "source": [
    "## A more complex example"
   ]
  },
  {
   "cell_type": "code",
   "execution_count": null,
   "id": "505a1c98-9e6b-4b9c-b304-fe7e4513b9c9",
   "metadata": {},
   "outputs": [],
   "source": [
    "def forward(t,robot):\n",
    "    robot['left'].F=4\n",
    "    robot['right'].F=4\n",
    "    return True\n",
    "\n",
    "def stop(t,robot):\n",
    "    robot['left'].F=0\n",
    "    robot['right'].F=0\n",
    "    return True\n",
    "\n",
    "\n",
    "def backward(t,robot):\n",
    "    robot['left'].F=-4\n",
    "    robot['right'].F=-4\n",
    "    return True\n",
    "\n",
    "def until_close(t,robot):\n",
    "    distance=robot['center'].read_distance()\n",
    "    if distance<6:\n",
    "        return True\n",
    "        \n",
    "        \n",
    "        \n",
    "def look_left(t,robot):\n",
    "    robot['center'].τ=.2\n",
    "\n",
    "    if robot['center'].angle>45:\n",
    "        robot['center'].τ=0\n",
    "        return True\n",
    "    \n",
    "def save_distance_left(t,robot):\n",
    "    robot['center'].left_distance=robot['center'].read_distance()\n",
    "    return True\n",
    "\n",
    "def look_right(t,robot):\n",
    "    robot['center'].τ=-.2\n",
    "    \n",
    "    if robot['center'].angle>300 and robot['center'].angle<315:\n",
    "        robot['center'].τ=0\n",
    "        return True\n",
    "    \n",
    "def save_distance_right(t,robot):\n",
    "    robot['center'].right_distance=robot['center'].read_distance()\n",
    "    return True\n",
    "    \n",
    "    \n",
    "def look_straight(t,robot):\n",
    "    robot['center'].τ=.2\n",
    "    \n",
    "    if robot['center'].angle>0 and robot['center'].angle<10:\n",
    "        robot['center'].τ=0\n",
    "        return True\n",
    "    \n",
    "    \n",
    "    \n",
    "def choose_right_or_left(t,robot):\n",
    "    \n",
    "    L,R=robot['center'].left_distance,robot['center'].right_distance\n",
    "    \n",
    "    if L>1.1*R:\n",
    "        return 'turn_left_45'\n",
    "    elif R>1.1*L:\n",
    "        return 'turn_right_45'\n",
    "    else:\n",
    "        return 'backward'\n",
    "    \n",
    "    \n",
    "    \n",
    "def delta_angle(a1,a2):\n",
    "    return 180 - abs(abs(a1 - a2) - 180)\n",
    "\n",
    "\n",
    "def turn_left_45(t,robot):\n",
    "    \n",
    "    robot['left'].F=-4\n",
    "    robot['right'].F=4\n",
    "    \n",
    "    if delta_angle(robot['right'].angle,0)>45:\n",
    "        return True\n",
    "    \n",
    "def turn_right_45(t,robot):\n",
    "    robot['left'].F=4\n",
    "    robot['right'].F=-4\n",
    "    \n",
    "    if delta_angle(robot['right'].angle,0)>45:\n",
    "        return True\n",
    "    \n",
    "    \n",
    "    \n",
    "def until_closer(t,robot):\n",
    "    distances=robot.read_distances()\n",
    "\n",
    "    distance=min(distances['right'],distances['left'])\n",
    "    if distance<2:\n",
    "        return True\n",
    "    \n",
    "    \n",
    "def until_far(t,robot):\n",
    "    distances=robot.read_distances()\n",
    "    if distances['center']>12:\n",
    "        return True        "
   ]
  },
  {
   "cell_type": "code",
   "execution_count": null,
   "id": "594e9f3e-ecd5-4bee-b881-c9186c7ac927",
   "metadata": {},
   "outputs": [],
   "source": [
    "forward_stop=StateMachine(\n",
    "    (forward,'until_closer'),\n",
    "    ( (until_closer,stop),'_end_simulation'),\n",
    "    name='forward_stop'\n",
    ")\n",
    "\n",
    "state_machine=StateMachine(\n",
    "    (forward,'until_close'),\n",
    "    ( (until_close,stop),'look_left'),\n",
    "    ( (look_left,save_distance_left,wait(2)),'look_right'),\n",
    "    ( (look_right,save_distance_right,wait(2)),'look_straight'),\n",
    "    (look_straight,'choose_right_or_left'),\n",
    "    (choose_right_or_left,'_end_simulation'),\n",
    "    (turn_left_45,'forward_stop'),\n",
    "    (turn_right_45,'forward_stop'),\n",
    "    (forward_stop,'_end_simulation'),\n",
    "    ( (backward,until_far),'_end_simulation'),\n",
    "    \n",
    ")\n"
   ]
  },
  {
   "cell_type": "code",
   "execution_count": null,
   "id": "6a4c3237-4092-412e-b1a1-1bb3e8c62734",
   "metadata": {},
   "outputs": [],
   "source": [
    "def monitor(t,robot):\n",
    "    robot.message=robot.controller.current_state,robot['left'].read_distance(),robot['right'].read_distance(),robot['center'].read_distance(),robot['center'].angle\n"
   ]
  },
  {
   "cell_type": "code",
   "execution_count": null,
   "id": "e410f774-56f8-4d65-80b6-607e0c50eca7",
   "metadata": {},
   "outputs": [],
   "source": [
    "env=FrictionEnvironment(24,24)  # size of the environment\n",
    "robot=Robot(env)\n",
    "\n",
    "build(robot)\n",
    "robot.controller=Controller(state_machine,verbose=False)\n",
    "robot.controller.monitor=monitor\n",
    "\n",
    "Box(env,15,15,width=0.4,height=10,density=0.01)\n",
    "\n",
    "#Box(env,15,7,width=0.4,height=10,density=0.01)  # should go left\n",
    "\n",
    "#Box(env,15,12,width=0.4,height=20,density=0.01)  # should back up and end\n",
    "\n",
    "\n",
    "run_sim(env,robot.controller,\n",
    "        total_time=100,  # seconds\n",
    "        dt=1/60,\n",
    "        dt_display=0.5,  # make this larger for a faster display\n",
    "       )"
   ]
  },
  {
   "cell_type": "code",
   "execution_count": null,
   "id": "9148996f-1477-46c8-b1c5-e191c12282f3",
   "metadata": {},
   "outputs": [],
   "source": []
  }
 ],
 "metadata": {
  "kernelspec": {
   "display_name": "Python 3",
   "language": "python",
   "name": "python3"
  },
  "language_info": {
   "codemirror_mode": {
    "name": "ipython",
    "version": 3
   },
   "file_extension": ".py",
   "mimetype": "text/x-python",
   "name": "python",
   "nbconvert_exporter": "python",
   "pygments_lexer": "ipython3",
   "version": "3.8.10"
  }
 },
 "nbformat": 4,
 "nbformat_minor": 5
}
