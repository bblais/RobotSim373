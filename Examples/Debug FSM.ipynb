{
 "cells": [
  {
   "cell_type": "code",
   "execution_count": 1,
   "id": "5bdaabd8-4c23-4bed-8f54-c9e8829af3b1",
   "metadata": {},
   "outputs": [
    {
     "name": "stdout",
     "output_type": "stream",
     "text": [
      "Populating the interactive namespace from numpy and matplotlib\n"
     ]
    }
   ],
   "source": [
    "%pylab inline"
   ]
  },
  {
   "cell_type": "code",
   "execution_count": 2,
   "id": "198951ba-34ef-45c2-bba1-1cb8ef16e4b5",
   "metadata": {},
   "outputs": [
    {
     "name": "stdout",
     "output_type": "stream",
     "text": [
      "Version:  0.0.31\n"
     ]
    }
   ],
   "source": [
    "from RobotSim373 import *"
   ]
  },
  {
   "cell_type": "code",
   "execution_count": null,
   "id": "98aa61b7-a93e-4365-9694-68daab40ade6",
   "metadata": {},
   "outputs": [],
   "source": []
  },
  {
   "cell_type": "code",
   "execution_count": 3,
   "id": "08819422-5c69-4be7-97e9-99e712035b5f",
   "metadata": {},
   "outputs": [],
   "source": [
    "def build(robot):\n",
    "    box1=Box(robot,3,9.5,name='right')  # location given, width=height=1.0 default\n",
    "    box2=Box(robot,3,11.5,name='left')\n",
    "    \n",
    "    connect(box1,box2,'weld')\n",
    "\n",
    "    disk1=Disk(robot,2,10.5,name='center')  # radius = 0.5 default\n",
    "    \n",
    "    connect(disk1,box1,'distance')\n",
    "    connect(disk1,box2,'distance')\n",
    "    \n",
    "    "
   ]
  },
  {
   "cell_type": "code",
   "execution_count": 4,
   "id": "4458ecc5-942f-4ab1-aae1-b0cbd5f40d17",
   "metadata": {},
   "outputs": [],
   "source": [
    "def forward(t,robot):\n",
    "    robot['left'].F=10\n",
    "    robot['right'].F=10\n",
    "    return True\n",
    "\n",
    "def backward(t,robot):\n",
    "    robot['left'].F=-10\n",
    "    robot['right'].F=-10\n",
    "    return True\n",
    "\n",
    "def until_close(t,robot):\n",
    "    distance=robot['center'].read_distance()\n",
    "    if distance<10:\n",
    "        return True\n",
    "    \n",
    "def until_far(t,robot):\n",
    "    distance=robot['center'].read_distance()\n",
    "    if distance>10:\n",
    "        return True    "
   ]
  },
  {
   "cell_type": "code",
   "execution_count": 5,
   "id": "7e9d9516-67b0-4d9d-8899-dfd3f08d34e8",
   "metadata": {},
   "outputs": [],
   "source": [
    "from collections import OrderedDict\n",
    "\n",
    "class StateMachine(object):\n",
    "\n",
    "    def __init__(self,*args,name=None):\n",
    "        self.__name__=name\n",
    "        \n",
    "        self.functions={}\n",
    "        self.states=OrderedDict()\n",
    "        \n",
    "        for i,arg in enumerate(args):\n",
    "            if isinstance(arg[0],tuple) or isinstance(arg[0],list):\n",
    "                key=arg[0][0].__name__\n",
    "                self.states[key]={'actions':arg[0],\"next\":arg[1]}\n",
    "                for func in arg[0]:\n",
    "                    self.functions[func.__name__]=func\n",
    "            else:\n",
    "                func=arg[0]\n",
    "                key=arg[0].__name__\n",
    "                self.states[key]={'actions':[arg[0]],\"next\":arg[1]}\n",
    "                self.functions[func.__name__]=func\n",
    "        \n",
    "        self.states[\"_end_simulation\"]={'actions':None,\"next\":None}\n",
    "        \n",
    "        self.first_state=list(self.states.keys())[0]    \n",
    "\n",
    "        for key in self.states:\n",
    "            if key==\"_end_simulation\":\n",
    "                continue\n",
    "            next_state=self.states[key]['next']\n",
    "            if next_state not in self.states:\n",
    "                raise ValueError(f\"Key '{next_state}' not found in {self.states.keys()}\")\n",
    "        \n",
    "        "
   ]
  },
  {
   "cell_type": "code",
   "execution_count": 6,
   "id": "9f62bd0d-ecbf-4a6a-ba0c-3ef767ba1f29",
   "metadata": {},
   "outputs": [],
   "source": []
  },
  {
   "cell_type": "code",
   "execution_count": 7,
   "id": "bf1332ba-256a-463c-b1eb-3ac6a6305de6",
   "metadata": {},
   "outputs": [],
   "source": [
    "state_machine=StateMachine(\n",
    "    (forward,'until_close'),\n",
    "    (until_close,'backward'),\n",
    "    (backward,'until_far'),\n",
    "    (until_far,'forward'),\n",
    ")"
   ]
  },
  {
   "cell_type": "code",
   "execution_count": 8,
   "id": "2afc3f15-1be8-4577-878c-99f489dae696",
   "metadata": {},
   "outputs": [
    {
     "data": {
      "text/plain": [
       "OrderedDict([('forward',\n",
       "              {'actions': [<function __main__.forward(t, robot)>],\n",
       "               'next': 'until_close'}),\n",
       "             ('until_close',\n",
       "              {'actions': [<function __main__.until_close(t, robot)>],\n",
       "               'next': 'backward'}),\n",
       "             ('backward',\n",
       "              {'actions': [<function __main__.backward(t, robot)>],\n",
       "               'next': 'until_far'}),\n",
       "             ('until_far',\n",
       "              {'actions': [<function __main__.until_far(t, robot)>],\n",
       "               'next': 'forward'}),\n",
       "             ('_end_simulation', {'actions': None, 'next': None})])"
      ]
     },
     "execution_count": 8,
     "metadata": {},
     "output_type": "execute_result"
    }
   ],
   "source": [
    "state_machine.states"
   ]
  },
  {
   "cell_type": "code",
   "execution_count": 9,
   "id": "2e413ee0-057d-447f-9571-4218395e9bfc",
   "metadata": {},
   "outputs": [],
   "source": [
    "def monitor(t,robot):\n",
    "    robot.message=robot.controller.current_state,robot['left'].read_distance(),robot['right'].read_distance(),robot['center'].angle\n"
   ]
  },
  {
   "cell_type": "code",
   "execution_count": 105,
   "id": "4ed52f97-23b7-4f05-b1a9-224a41e90ed3",
   "metadata": {},
   "outputs": [],
   "source": []
  },
  {
   "cell_type": "code",
   "execution_count": 13,
   "id": "1cc02b6c-1d39-4459-bf76-6b45db7cb282",
   "metadata": {},
   "outputs": [],
   "source": [
    "   \n",
    "\n",
    "class Controller(object):\n",
    "    \"\"\"\n",
    "        forward_stop=StateMachine(\n",
    "            (forward,'until_close'),\n",
    "            ( (until_close,stop),'_end_simulation'),\n",
    "            name='forward_stop'\n",
    "        )\n",
    "\n",
    "        state_machine=StateMachine(\n",
    "            (forward,'until_close'),\n",
    "            ( (until_close,stop),'look_left'),\n",
    "            ( (look_left,save_distance_left,wait(2)),'look_right'),\n",
    "            ( (look_right,save_distance_right,wait(2)),'look_straight'),\n",
    "            (look_straight,'choose_right_or_left'),\n",
    "            (choose_right_or_left,'_end_simulation'),\n",
    "            (turn_left_45,'forward_stop'),\n",
    "            (turn_right_45,'forward_stop'),\n",
    "            (forward_stop,'_end_simulation'),\n",
    "\n",
    "        )    \n",
    "    \"\"\"\n",
    "    def __init__(self,state_machine,verbose=False):\n",
    "        self.state_machine=state_machine\n",
    "        self.original_state_machine=state_machine\n",
    "        self.current_state=self.state_machine.first_state\n",
    "        self.start_time=0\n",
    "        self.state_count=0\n",
    "        self.monitor=None\n",
    "        self.verbose=verbose\n",
    "\n",
    "        \n",
    "    def __call__(self,t,robot):\n",
    "        return self.act(t,robot)\n",
    "        \n",
    "    def act(self,t,robot):\n",
    "        if t==0.0:  # first time\n",
    "            self.state_machine=self.original_state_machine\n",
    "            self.current_state=self.state_machine.first_state\n",
    "            self.start_time=0.0  \n",
    "            self.state_count=0      \n",
    "        \n",
    "        try:\n",
    "            current_actions=self.state_machine.states[self.current_state]['actions']\n",
    "            next_state=self.state_machine.states[self.current_state]['next']\n",
    "        except KeyError:\n",
    "            print(\"The current state is: \",self.current_state)\n",
    "            print(\"The available states are: \",self.state_machine.states)\n",
    "            raise\n",
    "\n",
    "            \n",
    "        action=current_actions[self.state_count]\n",
    "        \n",
    "        if isinstance(action,StateMachine):  # skip to next StateMachine\n",
    "            self.state_count=0\n",
    "            self.state_machine=action\n",
    "            self.current_state=self.state_machine.first_state\n",
    "            current_actions=self.state_machine.states[self.current_state]['actions']\n",
    "            next_state=self.state_machine.states[self.current_state]['next']\n",
    "            self.start_time=t\n",
    "            action=current_actions[self.state_count]\n",
    "        \n",
    "        \n",
    "        \n",
    "        value=action(t-self.start_time,robot)\n",
    "\n",
    "        \n",
    "        \n",
    "        if value: # done with this action\n",
    "            if self.verbose:\n",
    "                print(\"value=\",value)\n",
    "            self.start_time=t\n",
    "            \n",
    "            if isinstance(value,str):\n",
    "                self.current_state=value\n",
    "                self.state_count=0\n",
    "\n",
    "                if value=='_end_simulation':\n",
    "                    return True\n",
    "                elif value !=\"_next_state\":\n",
    "                    self.state_count=0\n",
    "                    \n",
    "                    try:\n",
    "                        self.state_machine.states[self.current_state]\n",
    "                    except KeyError:\n",
    "                        print(\"The current state is: \",self.current_state)\n",
    "                        print(\"The available states are: \",self.state_machine.states)\n",
    "                        raise\n",
    "                    \n",
    "\n",
    "            else:  # next action\n",
    "                self.state_count+=1\n",
    "                if self.state_count>=len(current_actions): # do next state\n",
    "                    value=\"_next_state\"\n",
    "                    self.state_count=0\n",
    "                else:\n",
    "                    if self.verbose:\n",
    "                        print(self.state_count,current_actions[self.state_count])\n",
    "\n",
    "\n",
    "\n",
    "            if value=='_next_state':\n",
    "                if self.verbose:\n",
    "                    print(value,next_state)\n",
    "                    \n",
    "                self.current_state=next_state\n",
    "                \n",
    "                if self.current_state=='_end_simulation':\n",
    "                    return True\n",
    "\n",
    "                try:\n",
    "                    self.state_machine.states[self.current_state]\n",
    "                except KeyError:\n",
    "                    print(\"The current state is: \",self.current_state)\n",
    "                    print(\"The available states are: \",self.state_machine.states)\n",
    "                    raise\n",
    "\n",
    "\n",
    "                self.start_time=t\n",
    "            \n",
    "\n",
    "\n",
    "        if not self.monitor is None:\n",
    "            self.monitor(t,robot)\n"
   ]
  },
  {
   "cell_type": "code",
   "execution_count": 15,
   "id": "5e25e6c4-b1df-4647-9d62-b0ba5983b7df",
   "metadata": {},
   "outputs": [
    {
     "data": {
      "image/png": "[encoded data removed]",
      "text/plain": [
       "<Figure size 720x720 with 1 Axes>"
      ]
     },
     "metadata": {
      "needs_background": "light"
     },
     "output_type": "display_data"
    }
   ],
   "source": [
    "env=FrictionEnvironment(24,24)  # size of the environment\n",
    "robot=Robot(env)\n",
    "\n",
    "build(robot)\n",
    "robot.controller=Controller(state_machine)\n",
    "robot.controller.monitor=monitor\n",
    "\n",
    "# put a bunch of blocks\n",
    "for y in arange(5,15,0.5):\n",
    "    Box(env,20,y,width=0.4,height=0.4,density=0.01)\n",
    "\n",
    "run_sim(env,robot.controller,\n",
    "        total_time=100,  # seconds\n",
    "        dt=1/60,\n",
    "        dt_display=0.5,  # make this larger for a faster display\n",
    "       )"
   ]
  },
  {
   "cell_type": "code",
   "execution_count": 16,
   "id": "4c688eed-1350-43b7-9122-7f3268b0a993",
   "metadata": {},
   "outputs": [],
   "source": [
    "state_machine=StateMachine(\n",
    "    ([forward,until_close,backward,until_far],'forward'),\n",
    ")"
   ]
  },
  {
   "cell_type": "code",
   "execution_count": 17,
   "id": "29f8a559-2e04-41c7-a864-065edf086da1",
   "metadata": {},
   "outputs": [
    {
     "data": {
      "image/png": "[encoded data removed]",
      "text/plain": [
       "<Figure size 720x720 with 1 Axes>"
      ]
     },
     "metadata": {
      "needs_background": "light"
     },
     "output_type": "display_data"
    }
   ],
   "source": [
    "env=FrictionEnvironment(24,24)  # size of the environment\n",
    "robot=Robot(env)\n",
    "\n",
    "build(robot)\n",
    "robot.controller=Controller(state_machine)\n",
    "robot.controller.monitor=monitor\n",
    "\n",
    "# put a bunch of blocks\n",
    "for y in arange(5,15,0.5):\n",
    "    Box(env,20,y,width=0.4,height=0.4,density=0.01)\n",
    "\n",
    "run_sim(env,robot.controller,\n",
    "        total_time=100,  # seconds\n",
    "        dt=1/60,\n",
    "        dt_display=0.5,  # make this larger for a faster display\n",
    "       )"
   ]
  },
  {
   "cell_type": "code",
   "execution_count": 79,
   "id": "bbc94d03-0c95-4189-8ecd-aa1c4bb021ba",
   "metadata": {},
   "outputs": [],
   "source": [
    "def forward(t,robot):\n",
    "    robot['left'].F=4\n",
    "    robot['right'].F=4\n",
    "    return True\n",
    "\n",
    "def stop(t,robot):\n",
    "    robot['left'].F=0\n",
    "    robot['right'].F=0\n",
    "    return True\n",
    "\n",
    "\n",
    "def backward(t,robot):\n",
    "    robot['left'].F=-4\n",
    "    robot['right'].F=-4\n",
    "    return True\n",
    "\n",
    "def until_close(t,robot):\n",
    "    distance=robot['center'].read_distance()\n",
    "    if distance<6:\n",
    "        return True\n",
    "        \n",
    "        \n",
    "        \n",
    "def look_left(t,robot):\n",
    "    robot['center'].τ=.2\n",
    "\n",
    "    if robot['center'].angle>45:\n",
    "        robot['center'].τ=0\n",
    "        return True\n",
    "    \n",
    "def save_distance_left(t,robot):\n",
    "    robot['center'].left_distance=robot['center'].read_distance()\n",
    "    return True\n",
    "\n",
    "def look_right(t,robot):\n",
    "    robot['center'].τ=-.2\n",
    "    \n",
    "    if robot['center'].angle>300 and robot['center'].angle<315:\n",
    "        robot['center'].τ=0\n",
    "        return True\n",
    "    \n",
    "def save_distance_right(t,robot):\n",
    "    robot['center'].right_distance=robot['center'].read_distance()\n",
    "    return True\n",
    "    \n",
    "    \n",
    "def look_straight(t,robot):\n",
    "    robot['center'].τ=.2\n",
    "    \n",
    "    if robot['center'].angle>0 and robot['center'].angle<10:\n",
    "        robot['center'].τ=0\n",
    "        return True\n",
    "    \n",
    "    \n",
    "    \n",
    "def choose_right_or_left(t,robot):\n",
    "    \n",
    "    L,R=robot['center'].left_distance,robot['center'].right_distance\n",
    "    \n",
    "    if L>1.1*R:\n",
    "        return 'turn_left_45'\n",
    "    elif R>1.1*L:\n",
    "        return 'turn_right_45'\n",
    "    else:\n",
    "        return 'backward'\n",
    "    \n",
    "    \n",
    "    \n",
    "def delta_angle(a1,a2):\n",
    "    return 180 - abs(abs(a1 - a2) - 180)\n",
    "\n",
    "\n",
    "def turn_left_45(t,robot):\n",
    "    \n",
    "    robot['left'].F=-4\n",
    "    robot['right'].F=4\n",
    "    \n",
    "    if delta_angle(robot['right'].angle,0)>45:\n",
    "        return True\n",
    "    \n",
    "def turn_right_45(t,robot):\n",
    "    robot['left'].F=4\n",
    "    robot['right'].F=-4\n",
    "    \n",
    "    if delta_angle(robot['right'].angle,0)>45:\n",
    "        return True\n",
    "    \n",
    "    \n",
    "    \n",
    "def until_closer(t,robot):\n",
    "    distance=robot['right'].read_distance()\n",
    "    if distance<2:\n",
    "        return True\n",
    "    \n",
    "    \n",
    "def until_far(t,robot):\n",
    "    distance=robot['center'].read_distance()\n",
    "    if distance>12:\n",
    "        return True        "
   ]
  },
  {
   "cell_type": "code",
   "execution_count": 80,
   "id": "970a73b7-48f4-4450-84b7-37e90ab5f279",
   "metadata": {},
   "outputs": [
    {
     "data": {
      "text/plain": [
       "OrderedDict([('forward',\n",
       "              {'actions': [<function __main__.forward(t, robot)>],\n",
       "               'next': 'until_close'}),\n",
       "             ('until_close',\n",
       "              {'actions': (<function __main__.until_close(t, robot)>,\n",
       "                <function __main__.stop(t, robot)>),\n",
       "               'next': 'look_left'}),\n",
       "             ('look_left',\n",
       "              {'actions': (<function __main__.look_left(t, robot)>,\n",
       "                <function __main__.save_distance_left(t, robot)>,\n",
       "                <function RobotSim373.robotsim.wait.<locals>._wait(t, robot)>),\n",
       "               'next': 'look_right'}),\n",
       "             ('look_right',\n",
       "              {'actions': (<function __main__.look_right(t, robot)>,\n",
       "                <function __main__.save_distance_right(t, robot)>,\n",
       "                <function RobotSim373.robotsim.wait.<locals>._wait(t, robot)>),\n",
       "               'next': 'look_straight'}),\n",
       "             ('look_straight',\n",
       "              {'actions': [<function __main__.look_straight(t, robot)>],\n",
       "               'next': 'choose_right_or_left'}),\n",
       "             ('choose_right_or_left',\n",
       "              {'actions': [<function __main__.choose_right_or_left(t, robot)>],\n",
       "               'next': '_end_simulation'}),\n",
       "             ('turn_left_45',\n",
       "              {'actions': [<function __main__.turn_left_45(t, robot)>],\n",
       "               'next': 'forward_stop'}),\n",
       "             ('turn_right_45',\n",
       "              {'actions': [<function __main__.turn_right_45(t, robot)>],\n",
       "               'next': 'forward_stop'}),\n",
       "             ('forward_stop',\n",
       "              {'actions': [<__main__.StateMachine at 0x116739d00>],\n",
       "               'next': '_end_simulation'}),\n",
       "             ('backward',\n",
       "              {'actions': (<function __main__.backward(t, robot)>,\n",
       "                <function __main__.until_far(t, robot)>),\n",
       "               'next': '_end_simulation'}),\n",
       "             ('_end_simulation', {'actions': None, 'next': None})])"
      ]
     },
     "execution_count": 80,
     "metadata": {},
     "output_type": "execute_result"
    }
   ],
   "source": [
    "forward_stop=StateMachine(\n",
    "    (forward,'until_closer'),\n",
    "    ( (until_closer,stop),'_end_simulation'),\n",
    "    name='forward_stop'\n",
    ")\n",
    "\n",
    "state_machine=StateMachine(\n",
    "    (forward,'until_close'),\n",
    "    ( (until_close,stop),'look_left'),\n",
    "    ( (look_left,save_distance_left,wait(2)),'look_right'),\n",
    "    ( (look_right,save_distance_right,wait(2)),'look_straight'),\n",
    "    (look_straight,'choose_right_or_left'),\n",
    "    (choose_right_or_left,'_end_simulation'),\n",
    "    (turn_left_45,'forward_stop'),\n",
    "    (turn_right_45,'forward_stop'),\n",
    "    (forward_stop,'_end_simulation'),\n",
    "    ( (backward,until_far),'_end_simulation'),\n",
    "    \n",
    ")\n",
    "\n",
    "state_machine.states\n"
   ]
  },
  {
   "cell_type": "code",
   "execution_count": 81,
   "id": "90a2d339-d66b-4031-adce-341753489b54",
   "metadata": {},
   "outputs": [],
   "source": [
    "\n",
    "def monitor(t,robot):\n",
    "    robot.message=robot.controller.current_state,robot['left'].read_distance(),robot['right'].read_distance(),robot['center'].read_distance(),robot['center'].angle\n"
   ]
  },
  {
   "cell_type": "code",
   "execution_count": null,
   "id": "ea79d0a7-5dfa-4589-ac04-1225e60d3730",
   "metadata": {},
   "outputs": [],
   "source": []
  },
  {
   "cell_type": "code",
   "execution_count": 83,
   "id": "c40c4ef1-8847-40f4-8fc6-63d0dbf22290",
   "metadata": {},
   "outputs": [
    {
     "data": {
      "image/png": "[encoded data removed]",
      "text/plain": [
       "<Figure size 720x720 with 1 Axes>"
      ]
     },
     "metadata": {
      "needs_background": "light"
     },
     "output_type": "display_data"
    }
   ],
   "source": [
    "env=FrictionEnvironment(24,24)  # size of the environment\n",
    "robot=Robot(env)\n",
    "\n",
    "build(robot)\n",
    "robot.controller=Controller(state_machine,verbose=False)\n",
    "robot.controller.monitor=monitor\n",
    "\n",
    "#Box(env,15,15,width=0.4,height=10,density=0.01)\n",
    "\n",
    "#Box(env,15,7,width=0.4,height=10,density=0.01)\n",
    "\n",
    "Box(env,15,12,width=0.4,height=20,density=0.01)\n",
    "\n",
    "\n",
    "# put a bunch of blocks\n",
    "# for y in arange(10,23,0.5):\n",
    "#     Box(env,15,y,width=0.4,height=0.4,density=0.01)\n",
    "\n",
    "# # put a bunch of blocks\n",
    "# for y in arange(1,13,0.5):\n",
    "#     Box(env,15,y,width=0.4,height=0.4,density=0.01)\n",
    "\n",
    "# put a bunch of blocks\n",
    "# for y in arange(1,23,0.5):\n",
    "#     Box(env,15,y,width=0.4,height=0.4,density=0.01)\n",
    "    \n",
    "    \n",
    "run_sim(env,robot.controller,\n",
    "        total_time=100,  # seconds\n",
    "        dt=1/60,\n",
    "        dt_display=0.5,  # make this larger for a faster display\n",
    "       )"
   ]
  },
  {
   "cell_type": "code",
   "execution_count": 12,
   "id": "32fad04a-0aae-40fe-bae9-d5fb73b30617",
   "metadata": {},
   "outputs": [
    {
     "data": {
      "text/plain": [
       "'forward'"
      ]
     },
     "execution_count": 12,
     "metadata": {},
     "output_type": "execute_result"
    }
   ],
   "source": [
    "forward.__name__"
   ]
  },
  {
   "cell_type": "code",
   "execution_count": null,
   "id": "8273b163-fce2-47d6-9a1b-8a9854412ea3",
   "metadata": {},
   "outputs": [],
   "source": []
  }
 ],
 "metadata": {
  "kernelspec": {
   "display_name": "Python 3",
   "language": "python",
   "name": "python3"
  },
  "language_info": {
   "codemirror_mode": {
    "name": "ipython",
    "version": 3
   },
   "file_extension": ".py",
   "mimetype": "text/x-python",
   "name": "python",
   "nbconvert_exporter": "python",
   "pygments_lexer": "ipython3",
   "version": "3.8.10"
  }
 },
 "nbformat": 4,
 "nbformat_minor": 5
}
