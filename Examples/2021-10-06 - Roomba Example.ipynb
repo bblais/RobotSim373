{
 "cells": [
  {
   "cell_type": "code",
   "execution_count": 1,
   "id": "254bb409-2690-4c18-819f-2c2db33c4e37",
   "metadata": {},
   "outputs": [
    {
     "name": "stdout",
     "output_type": "stream",
     "text": [
      "Populating the interactive namespace from numpy and matplotlib\n"
     ]
    }
   ],
   "source": [
    "%pylab inline"
   ]
  },
  {
   "cell_type": "code",
   "execution_count": 2,
   "id": "a4475613-8a5f-40b4-83c8-e672796350a5",
   "metadata": {},
   "outputs": [
    {
     "name": "stdout",
     "output_type": "stream",
     "text": [
      "Version:  0.0.30\n"
     ]
    }
   ],
   "source": [
    "from RobotSim373 import *"
   ]
  },
  {
   "cell_type": "code",
   "execution_count": 7,
   "id": "d2307701-b549-4fa4-b743-35e400f78382",
   "metadata": {},
   "outputs": [],
   "source": [
    "def build(robot,x=5,y=10,angle=0):\n",
    "    R=.5\n",
    "    r=R/5\n",
    "    disk_center=Disk(robot,x=x,y=y,radius=R,angle=angle,name='center')\n",
    "\n",
    "    disks=[]\n",
    "    for angle in range(0,360,30):\n",
    "        disk=Disk(robot,\n",
    "                          x+(R+1.1*r)*cos(radians(angle)),\n",
    "                          y+(R+1.1*r)*sin(radians(angle)),\n",
    "                 angle=angle,radius=r,\n",
    "                 name='disk %d' % angle)\n",
    "        disks.append(disk)\n",
    "\n",
    "    connect(disk_center,disks,'weld')\n",
    "\n",
    "    robot.disks=disks\n",
    "    robot.angles=list(range(0,360,30))\n",
    "    robot.distances=[-1]*len(disks)\n",
    "\n",
    "    robot.S=Storage()"
   ]
  },
  {
   "cell_type": "code",
   "execution_count": 11,
   "id": "39477a4e-8dcf-4bf9-9688-e6f61a84b9f5",
   "metadata": {},
   "outputs": [],
   "source": [
    "def randbetween(low,high):\n",
    "    return rand()*(high-low)+low"
   ]
  },
  {
   "cell_type": "code",
   "execution_count": 39,
   "id": "bd557860-619b-46ae-8de5-f1895b6c02a2",
   "metadata": {},
   "outputs": [],
   "source": [
    "def forward(t,robot):\n",
    "    robot['center'].F=10\n",
    "    robot['center'].τ=0\n",
    "    robot.message=\"forward\"\n",
    "    return True\n",
    "    \n",
    "def until_close(t,robot):\n",
    "    threshold=1\n",
    "    \n",
    "    d0=robot['disk 0'].read_distance()\n",
    "    d30=robot['disk 30'].read_distance()\n",
    "    d330=robot['disk 330'].read_distance()\n",
    "    \n",
    "    if d0<threshold or d30<threshold or d330<threshold:\n",
    "        return True\n",
    "    \n",
    "def backward(t,robot):\n",
    "    robot['center'].F=-10\n",
    "    robot.message=\"backward\"\n",
    "    return True\n",
    "\n",
    "def turn(t,robot):\n",
    "    robot['center'].τ=1\n",
    "    return True\n",
    "    \n",
    "    \n",
    "def until_far(t,robot):\n",
    "    threshold=2\n",
    "    d0=robot['disk 0'].read_distance()\n",
    "    d30=robot['disk 30'].read_distance()\n",
    "    d330=robot['disk 330'].read_distance()\n",
    "    if d0>threshold and d30>threshold and d330>threshold:\n",
    "        return True\n",
    "    \n",
    "    "
   ]
  },
  {
   "cell_type": "code",
   "execution_count": 42,
   "id": "ea248391-dc8c-4832-aed7-eb0fd4bf8a52",
   "metadata": {},
   "outputs": [
    {
     "data": {
      "image/png": "[encoded data removed]",
      "text/plain": [
       "<Figure size 432x432 with 1 Axes>"
      ]
     },
     "metadata": {
      "needs_background": "light"
     },
     "output_type": "display_data"
    }
   ],
   "source": [
    "env=FrictionEnvironment(24,24)  # size of the environment\n",
    "robot=Robot(env)\n",
    "build(robot)\n",
    "\n",
    "for i in range(6):\n",
    "    Box(env,\n",
    "        x=randbetween(7,21),\n",
    "        y=randbetween(0,21),\n",
    "        width=3,\n",
    "        height=1,\n",
    "        angle=randbetween(0,360),\n",
    "        density=100,\n",
    "       )\n",
    "\n",
    "\n",
    "run_sim(env,[forward,until_close,backward,turn,until_far],\n",
    "        figure_width=6,\n",
    "        total_time=120,  # seconds\n",
    "        dt_display=.5,  # make this larger for a faster display\n",
    "       )"
   ]
  },
  {
   "cell_type": "code",
   "execution_count": null,
   "id": "2fd21511-2cbc-4baa-ac34-4324528c68df",
   "metadata": {},
   "outputs": [],
   "source": []
  }
 ],
 "metadata": {
  "kernelspec": {
   "display_name": "Python 3",
   "language": "python",
   "name": "python3"
  },
  "language_info": {
   "codemirror_mode": {
    "name": "ipython",
    "version": 3
   },
   "file_extension": ".py",
   "mimetype": "text/x-python",
   "name": "python",
   "nbconvert_exporter": "python",
   "pygments_lexer": "ipython3",
   "version": "3.8.10"
  }
 },
 "nbformat": 4,
 "nbformat_minor": 5
}
