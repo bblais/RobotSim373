{
 "cells": [
  {
   "cell_type": "code",
   "execution_count": 1,
   "metadata": {},
   "outputs": [
    {
     "name": "stdout",
     "output_type": "stream",
     "text": [
      "Populating the interactive namespace from numpy and matplotlib\n"
     ]
    }
   ],
   "source": [
    "%pylab inline"
   ]
  },
  {
   "cell_type": "code",
   "execution_count": 2,
   "metadata": {},
   "outputs": [
    {
     "name": "stdout",
     "output_type": "stream",
     "text": [
      "Version:  0.0.6\n"
     ]
    }
   ],
   "source": [
    "from RobotSim373 import *"
   ]
  },
  {
   "cell_type": "code",
   "execution_count": 5,
   "metadata": {},
   "outputs": [],
   "source": [
    "def build(robot):\n",
    "\n",
    "    width=2\n",
    "    height=0.3\n",
    "\n",
    "    \n",
    "    Box(robot,\n",
    "        x=10,\n",
    "        y=10,\n",
    "        width=width,\n",
    "        height=height,\n",
    "        name='bob')\n",
    "\n",
    "    \n",
    "    Box(robot,\n",
    "        x=10,\n",
    "        y=16,\n",
    "        width=width,\n",
    "        height=height,\n",
    "        name='sally')\n",
    "    \n",
    "    \n",
    "def act(t,robot):\n",
    "    \n",
    "    robot['bob'].F=.3  # force\n",
    "    \n",
    "    robot['sally'].τ=.3  # torque\n",
    "    "
   ]
  },
  {
   "cell_type": "code",
   "execution_count": 7,
   "metadata": {},
   "outputs": [
    {
     "data": {
      "image/png": "[encoded data removed]",
      "text/plain": [
       "<Figure size 576x576 with 1 Axes>"
      ]
     },
     "metadata": {
      "needs_background": "light"
     },
     "output_type": "display_data"
    }
   ],
   "source": [
    "env=Environment(24,24) \n",
    "robot=Robot(env)\n",
    "\n",
    "robot=build(robot)\n",
    "\n",
    "\n",
    "for y in arange(1,20,5):\n",
    "    Box(env,10,y,width=1,height=1,angle=30,density=0.001)\n",
    "\n",
    "run_sim(env,act,\n",
    "        total_time=80,  # seconds\n",
    "        dt=1/60,\n",
    "        dt_display=0.1,  # make this larger for a faster display\n",
    "        plot_orientation=True,\n",
    "        figure_width=8,\n",
    "       )"
   ]
  },
  {
   "cell_type": "markdown",
   "metadata": {},
   "source": [
    "1. How much force to move at a constant speed?\n",
    "2. How much torque to rotate at constant speed?"
   ]
  },
  {
   "cell_type": "code",
   "execution_count": null,
   "metadata": {},
   "outputs": [],
   "source": []
  }
 ],
 "metadata": {
  "kernelspec": {
   "display_name": "Python 3",
   "language": "python",
   "name": "python3"
  },
  "language_info": {
   "codemirror_mode": {
    "name": "ipython",
    "version": 3
   },
   "file_extension": ".py",
   "mimetype": "text/x-python",
   "name": "python",
   "nbconvert_exporter": "python",
   "pygments_lexer": "ipython3",
   "version": "3.7.6"
  }
 },
 "nbformat": 4,
 "nbformat_minor": 4
}
