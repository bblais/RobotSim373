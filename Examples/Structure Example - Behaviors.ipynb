{
 "cells": [
  {
   "cell_type": "code",
   "execution_count": 1,
   "metadata": {},
   "outputs": [
    {
     "name": "stdout",
     "output_type": "stream",
     "text": [
      "Populating the interactive namespace from numpy and matplotlib\n"
     ]
    }
   ],
   "source": [
    "%pylab inline"
   ]
  },
  {
   "cell_type": "code",
   "execution_count": 2,
   "metadata": {},
   "outputs": [
    {
     "name": "stdout",
     "output_type": "stream",
     "text": [
      "Version:  0.0.6\n"
     ]
    }
   ],
   "source": [
    "from RobotSim373 import *"
   ]
  },
  {
   "cell_type": "code",
   "execution_count": 3,
   "metadata": {},
   "outputs": [],
   "source": [
    "def build_box(robot,x,y,name=''):\n",
    "    width=2\n",
    "    thickness=0.5\n",
    "    \n",
    "    b1=Box(robot,\n",
    "        x=0+x,\n",
    "        y=width/2+thickness+y,\n",
    "         width=width,height=thickness,\n",
    "        name=name+':top')\n",
    "    b2=Box(robot,\n",
    "        x=0+x,\n",
    "        y=-width/2-thickness+y,\n",
    "         width=width,height=thickness,\n",
    "        name=name+':bottom')\n",
    "    b3=Box(robot,\n",
    "        x=-width/2-thickness+x,\n",
    "        y=0+y,\n",
    "         width=thickness,height=width,\n",
    "        name=name+':left')\n",
    "    b4=Box(robot,\n",
    "        x=+width/2+thickness+x,\n",
    "        y=0+y,\n",
    "         width=thickness,height=width,\n",
    "        name=name+':right')\n",
    "    \n",
    "    connect(b1,[b2,b3,b4],'weld')\n",
    "    \n",
    "    return [b1,b2,b3,b4]\n",
    "\n",
    "def build(robot):\n",
    "    \n",
    "    y=rand()*9+3\n",
    "    bob=build_box(robot,4,y,'bob')\n",
    "    \n",
    "    disk=Disk(robot,4,y,radius=0.8,name='bob:center')  # radius = 0.5 default\n",
    "    \n",
    "    connect(disk,bob,'distance')\n",
    "\n",
    "    robot.distances=[-1]*360    \n",
    "\n",
    "        \n",
    "    return robot\n"
   ]
  },
  {
   "cell_type": "code",
   "execution_count": 4,
   "metadata": {},
   "outputs": [],
   "source": [
    "def go_to_distance(robot,goal_distance):\n",
    "    right=robot['bob:right']\n",
    "    distance=right.read_distance()\n",
    "    if distance>goal_distance:\n",
    "        right.F=0.8\n",
    "    else:\n",
    "        right.F=-0.8\n",
    "           \n",
    "def avoid_black(robot):\n",
    "    center=robot['bob:center']\n",
    "    right=robot['bob:right']\n",
    "\n",
    "    color=center.read_color()\n",
    "    \n",
    "    if color[0]<0.4:\n",
    "        right.F=-0.8\n",
    "    \n",
    "def scan_distances(robot):\n",
    "    center=robot['bob:center']\n",
    "    center.τ=.2\n",
    "    \n",
    "    a=int(center.angle % 360)  # round, so I don't repeat things\n",
    "    d=center.read_distance()\n",
    "    robot.distances[a]=d\n",
    "\n",
    "def act(t,robot):\n",
    "\n",
    "    if t<2:\n",
    "        return\n",
    "  \n",
    "    go_to_distance(robot,3)\n",
    "    avoid_black(robot)\n",
    "    scan_distances(robot)\n",
    "\n",
    "    robot.message=robot['bob:center'].read_distance()    "
   ]
  },
  {
   "cell_type": "code",
   "execution_count": 10,
   "metadata": {},
   "outputs": [
    {
     "data": {
      "image/png": "[encoded data removed]",
      "text/plain": [
       "<Figure size 576x360 with 1 Axes>"
      ]
     },
     "metadata": {
      "needs_background": "light"
     },
     "output_type": "display_data"
    }
   ],
   "source": [
    "env=Environment(image='images/black stripe.png') \n",
    "robot=Robot(env)\n",
    "\n",
    "robot=build(robot)\n",
    "\n",
    "\n",
    "for y in arange(1,20,5):\n",
    "    Box(env,10,y,width=1,height=1,angle=30,density=0.001)\n",
    "\n",
    "run_sim(env,act,\n",
    "        total_time=80,  # seconds\n",
    "        dt=1/60,\n",
    "        dt_display=1,  # make this larger for a faster display\n",
    "        plot_orientation=True,\n",
    "        figure_width=8,\n",
    "       )"
   ]
  },
  {
   "cell_type": "code",
   "execution_count": 11,
   "metadata": {},
   "outputs": [
    {
     "data": {
      "text/plain": [
       "[<matplotlib.lines.Line2D at 0x7fa270987fd0>]"
      ]
     },
     "execution_count": 11,
     "metadata": {},
     "output_type": "execute_result"
    },
    {
     "data": {
      "image/png": "[encoded data removed]",
      "text/plain": [
       "<Figure size 432x288 with 1 Axes>"
      ]
     },
     "metadata": {
      "needs_background": "light"
     },
     "output_type": "display_data"
    }
   ],
   "source": [
    "plot(robot.distances)"
   ]
  },
  {
   "cell_type": "markdown",
   "metadata": {},
   "source": [
    "# What happens if I change the connection to the central disk to \"weld\" instead of \"distance\"?"
   ]
  },
  {
   "cell_type": "code",
   "execution_count": 21,
   "metadata": {},
   "outputs": [],
   "source": [
    "def build(robot):\n",
    "    \n",
    "    y=rand()*9+3\n",
    "    bob=build_box(robot,4,y,'bob')\n",
    "    \n",
    "    disk=Disk(robot,4,y,radius=0.8,name='bob:center')  # radius = 0.5 default\n",
    "    \n",
    "    connect(disk,bob,'weld')  # <=========== changed from \"distance\"\n",
    "\n",
    "    robot.distances=[-1]*360    \n",
    "\n",
    "        \n",
    "    return robot\n"
   ]
  },
  {
   "cell_type": "code",
   "execution_count": 22,
   "metadata": {},
   "outputs": [
    {
     "data": {
      "image/png": "[encoded data removed]",
      "text/plain": [
       "<Figure size 576x360 with 1 Axes>"
      ]
     },
     "metadata": {
      "needs_background": "light"
     },
     "output_type": "display_data"
    }
   ],
   "source": [
    "env=Environment(image='images/black stripe.png') \n",
    "robot=Robot(env)\n",
    "\n",
    "robot=build(robot)\n",
    "\n",
    "\n",
    "for y in arange(1,20,5):\n",
    "    Box(env,10,y,width=1,height=1,angle=30,density=0.001)\n",
    "\n",
    "run_sim(env,act,\n",
    "        total_time=80,  # seconds\n",
    "        dt=1/60,\n",
    "        dt_display=1,  # make this larger for a faster display\n",
    "        plot_orientation=True,\n",
    "        figure_width=8,\n",
    "       )"
   ]
  },
  {
   "cell_type": "code",
   "execution_count": null,
   "metadata": {},
   "outputs": [],
   "source": []
  }
 ],
 "metadata": {
  "kernelspec": {
   "display_name": "Python 3",
   "language": "python",
   "name": "python3"
  },
  "language_info": {
   "codemirror_mode": {
    "name": "ipython",
    "version": 3
   },
   "file_extension": ".py",
   "mimetype": "text/x-python",
   "name": "python",
   "nbconvert_exporter": "python",
   "pygments_lexer": "ipython3",
   "version": "3.7.6"
  }
 },
 "nbformat": 4,
 "nbformat_minor": 4
}
