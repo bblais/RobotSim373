{
 "cells": [
  {
   "cell_type": "code",
   "execution_count": 1,
   "id": "0ca98290-42be-445c-8b8d-b7ab7fed2d92",
   "metadata": {},
   "outputs": [
    {
     "name": "stdout",
     "output_type": "stream",
     "text": [
      "Populating the interactive namespace from numpy and matplotlib\n"
     ]
    }
   ],
   "source": [
    "%pylab inline"
   ]
  },
  {
   "cell_type": "code",
   "execution_count": 2,
   "id": "1a5f7cf8-7153-4e19-97fb-3f8dbc13e8d2",
   "metadata": {},
   "outputs": [
    {
     "name": "stdout",
     "output_type": "stream",
     "text": [
      "Version:  0.0.39\n"
     ]
    }
   ],
   "source": [
    "from RobotSim373 import *"
   ]
  },
  {
   "cell_type": "code",
   "execution_count": 3,
   "id": "eb35a513-5dc8-408f-8683-dc15f7baec0c",
   "metadata": {},
   "outputs": [],
   "source": [
    "from RobotSim373.utils import pptx2build"
   ]
  },
  {
   "cell_type": "code",
   "execution_count": 4,
   "id": "8588438c-199d-4100-874e-d1b295afd960",
   "metadata": {},
   "outputs": [
    {
     "name": "stdout",
     "output_type": "stream",
     "text": [
      "def build(robot):\n",
      "    box1=Box(robot,x=3.25,y=17.36,angle=0.00,width=1.25,height=3.53,name=\"box1\")\n",
      "    box2=Box(robot,x=7.94,y=10.83,angle=326.93,width=1.15,height=4.18,name=\"box2\")\n",
      "    disk3=Disk(robot,x=5.02,y=12.30,angle=0.00,radius=1.77,name=\"disk3\")\n",
      "    disk4=Disk(robot,x=11.19,y=13.14,angle=0.00,radius=1.04,name=\"disk4\")\n",
      "\n",
      "    connect(disk3,box1,'weld')\n",
      "    connect(disk3,box2,'weld')\n"
     ]
    }
   ],
   "source": [
    "pptx2build('test drawing.pptx')"
   ]
  },
  {
   "cell_type": "code",
   "execution_count": 9,
   "id": "68dd5f02-4484-423f-8c3d-ef3aaaee14db",
   "metadata": {},
   "outputs": [],
   "source": [
    "def build(robot):\n",
    "    box1=Box(robot,x=3.25,y=17.36,angle=0.00,width=1.25,height=3.53,name=\"box1\")\n",
    "    box2=Box(robot,x=7.94,y=10.83,angle=326.93,width=1.15,height=4.18,name=\"box2\")\n",
    "    disk3=Disk(robot,x=5.02,y=12.30,angle=0.00,radius=1.77,name=\"disk3\")\n",
    "    disk4=Disk(robot,x=11.19,y=13.14,angle=0.00,radius=1.04,name=\"disk4\")\n",
    "\n",
    "    connect(disk3,box1,'weld')\n",
    "    connect(disk3,box2,'weld')\n",
    "    \n",
    "    robot.offset(dx=20)"
   ]
  },
  {
   "cell_type": "code",
   "execution_count": 10,
   "id": "78836275-b972-4adb-8566-abdf88d92982",
   "metadata": {},
   "outputs": [],
   "source": [
    "def act(t,robot):\n",
    "    robot['box1'].F=0\n",
    "    pass"
   ]
  },
  {
   "cell_type": "code",
   "execution_count": 11,
   "id": "a636ecbd-d5bb-482e-9961-01007820011f",
   "metadata": {},
   "outputs": [],
   "source": [
    "env=Environment(24,24)\n",
    "robot=Robot(env)\n",
    "build(robot)"
   ]
  },
  {
   "cell_type": "code",
   "execution_count": 12,
   "id": "95c21645-bead-4841-a98e-df5303ce4ff2",
   "metadata": {},
   "outputs": [
    {
     "data": {
      "image/png": "[encoded data removed]",
      "text/plain": [
       "<Figure size 720x720 with 1 Axes>"
      ]
     },
     "metadata": {
      "needs_background": "light"
     },
     "output_type": "display_data"
    }
   ],
   "source": [
    "run_sim(env,act,\n",
    "        total_time=1000,  # seconds\n",
    "        dt=1/60,\n",
    "        dt_display=5,  # make this larger for a faster display\n",
    "       )\n"
   ]
  },
  {
   "cell_type": "code",
   "execution_count": 23,
   "id": "4eb73c37-7506-4d49-ae8f-8922bcc5e5d7",
   "metadata": {},
   "outputs": [],
   "source": [
    "o=robot.objects[0]"
   ]
  },
  {
   "cell_type": "code",
   "execution_count": 25,
   "id": "9f612281-0e12-44bc-9cda-da69cb0901e6",
   "metadata": {},
   "outputs": [],
   "source": [
    "o.body.position[0]+=5"
   ]
  },
  {
   "cell_type": "code",
   "execution_count": 26,
   "id": "a57edea6-d5d5-4714-997f-406cf0ebfee0",
   "metadata": {},
   "outputs": [
    {
     "data": {
      "text/plain": [
       "b2Vec2(8.25,17.36)"
      ]
     },
     "execution_count": 26,
     "metadata": {},
     "output_type": "execute_result"
    }
   ],
   "source": [
    "o.body.position"
   ]
  },
  {
   "cell_type": "code",
   "execution_count": null,
   "id": "f6a6e062-e2a0-4daf-92f7-ee8624332418",
   "metadata": {},
   "outputs": [],
   "source": []
  }
 ],
 "metadata": {
  "kernelspec": {
   "display_name": "Python 3",
   "language": "python",
   "name": "python3"
  },
  "language_info": {
   "codemirror_mode": {
    "name": "ipython",
    "version": 3
   },
   "file_extension": ".py",
   "mimetype": "text/x-python",
   "name": "python",
   "nbconvert_exporter": "python",
   "pygments_lexer": "ipython3",
   "version": "3.8.10"
  }
 },
 "nbformat": 4,
 "nbformat_minor": 5
}
