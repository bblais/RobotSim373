{
 "cells": [
  {
   "cell_type": "code",
   "execution_count": 1,
   "metadata": {},
   "outputs": [
    {
     "name": "stdout",
     "output_type": "stream",
     "text": [
      "Populating the interactive namespace from numpy and matplotlib\n"
     ]
    }
   ],
   "source": [
    "%pylab inline"
   ]
  },
  {
   "cell_type": "code",
   "execution_count": 2,
   "metadata": {},
   "outputs": [
    {
     "ename": "ModuleNotFoundError",
     "evalue": "No module named 'RobotSim373'",
     "output_type": "error",
     "traceback": [
      "\u001b[0;31m---------------------------------------------------------------------------\u001b[0m",
      "\u001b[0;31mModuleNotFoundError\u001b[0m                       Traceback (most recent call last)",
      "\u001b[0;32m<ipython-input-2-5fd847ca80eb>\u001b[0m in \u001b[0;36m<module>\u001b[0;34m\u001b[0m\n\u001b[0;32m----> 1\u001b[0;31m \u001b[0;32mfrom\u001b[0m \u001b[0mRobotSim373\u001b[0m \u001b[0;32mimport\u001b[0m \u001b[0;34m*\u001b[0m\u001b[0;34m\u001b[0m\u001b[0;34m\u001b[0m\u001b[0m\n\u001b[0m",
      "\u001b[0;31mModuleNotFoundError\u001b[0m: No module named 'RobotSim373'"
     ]
    }
   ],
   "source": [
    "from RobotSim373 import *"
   ]
  },
  {
   "cell_type": "code",
   "execution_count": 3,
   "metadata": {},
   "outputs": [],
   "source": [
    "def build(robot):\n",
    "    box1=Box(robot,3,4.5,name='right')\n",
    "    box2=Box(robot,3,6.5,name='left')\n",
    "    \n",
    "    connect(box1,box2,'weld')\n",
    "\n",
    "    disk1=Disk(robot,2,5.5,name='center')\n",
    "    \n",
    "    connect(disk1,box1,'distance')\n",
    "    connect(disk1,box2,'distance')\n",
    "    \n",
    "    return robot\n",
    "    "
   ]
  },
  {
   "cell_type": "code",
   "execution_count": 4,
   "metadata": {},
   "outputs": [],
   "source": [
    "def act_forward_backward_example(t,robot):\n",
    "    \n",
    "    if t<10:\n",
    "        robot['left'].F=0.4\n",
    "        robot['right'].F=0.4\n",
    "    elif t<60:\n",
    "        robot['left'].F=-0.4\n",
    "        robot['right'].F=-0.4\n",
    "    else:\n",
    "        robot['left'].F=0\n",
    "        robot['right'].F=0\n",
    "        \n",
    "def act_forward_turn_example(t,robot):\n",
    "    \n",
    "    if robot['center'].x>12:\n",
    "        robot['left'].F=-0.2\n",
    "        robot['right'].F=-0.25\n",
    "    else:\n",
    "        robot['left'].F=0.4\n",
    "        robot['right'].F=0.45\n",
    "    \n",
    "    if t>70:\n",
    "        robot['left'].F=0\n",
    "        robot['right'].F=0\n",
    "        \n",
    "        "
   ]
  },
  {
   "cell_type": "code",
   "execution_count": null,
   "metadata": {},
   "outputs": [],
   "source": []
  }
 ],
 "metadata": {
  "kernelspec": {
   "display_name": "Python 3",
   "language": "python",
   "name": "python3"
  },
  "language_info": {
   "codemirror_mode": {
    "name": "ipython",
    "version": 3
   },
   "file_extension": ".py",
   "mimetype": "text/x-python",
   "name": "python",
   "nbconvert_exporter": "python",
   "pygments_lexer": "ipython3",
   "version": "3.7.6"
  }
 },
 "nbformat": 4,
 "nbformat_minor": 4
}
