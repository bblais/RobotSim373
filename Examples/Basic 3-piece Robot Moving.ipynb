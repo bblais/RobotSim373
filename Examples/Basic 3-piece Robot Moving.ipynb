{
 "cells": [
  {
   "cell_type": "code",
   "execution_count": 1,
   "metadata": {},
   "outputs": [
    {
     "name": "stdout",
     "output_type": "stream",
     "text": [
      "Populating the interactive namespace from numpy and matplotlib\n"
     ]
    }
   ],
   "source": [
    "%pylab inline"
   ]
  },
  {
   "cell_type": "code",
   "execution_count": 2,
   "metadata": {},
   "outputs": [
    {
     "name": "stdout",
     "output_type": "stream",
     "text": [
      "Version:  0.0.1\n"
     ]
    }
   ],
   "source": [
    "from RobotSim373 import *"
   ]
  },
  {
   "cell_type": "code",
   "execution_count": 3,
   "metadata": {},
   "outputs": [],
   "source": [
    "def build(robot):\n",
    "    box1=Box(robot,3,4.5,name='right')  # location given, width=height=1.0 default\n",
    "    box2=Box(robot,3,6.5,name='left')\n",
    "    \n",
    "    connect(box1,box2,'weld')\n",
    "\n",
    "    disk1=Disk(robot,2,5.5,name='center')  # radius = 0.5 default\n",
    "    \n",
    "    connect(disk1,box1,'distance')\n",
    "    connect(disk1,box2,'distance')\n",
    "    \n",
    "    return robot\n",
    "    "
   ]
  },
  {
   "cell_type": "code",
   "execution_count": 4,
   "metadata": {},
   "outputs": [],
   "source": [
    "def act_forward_backward_example(t,robot):\n",
    "    \n",
    "    if t<10:\n",
    "        robot['left'].F=0.4\n",
    "        robot['right'].F=0.4\n",
    "    elif t<60:\n",
    "        robot['left'].F=-0.4\n",
    "        robot['right'].F=-0.4\n",
    "    else:\n",
    "        robot['left'].F=0\n",
    "        robot['right'].F=0\n",
    "        \n",
    "def act_forward_turn_example(t,robot):\n",
    "    \n",
    "    if robot['center'].x>12:\n",
    "        robot['left'].F=-0.2\n",
    "        robot['right'].F=-0.25\n",
    "    else:\n",
    "        robot['left'].F=0.4\n",
    "        robot['right'].F=0.45\n",
    "    \n",
    "    if t>70:\n",
    "        robot['left'].F=0\n",
    "        robot['right'].F=0\n",
    "        \n",
    "        "
   ]
  },
  {
   "cell_type": "code",
   "execution_count": 5,
   "metadata": {},
   "outputs": [
    {
     "ename": "NameError",
     "evalue": "name 'act_forward_turn_example' is not defined",
     "output_type": "error",
     "traceback": [
      "\u001b[0;31m---------------------------------------------------------------------------\u001b[0m",
      "\u001b[0;31mNameError\u001b[0m                                 Traceback (most recent call last)",
      "\u001b[0;32m<ipython-input-5-1d5ace69c0a4>\u001b[0m in \u001b[0;36m<module>\u001b[0;34m\u001b[0m\n\u001b[1;32m     10\u001b[0m run_sim(env,\n\u001b[1;32m     11\u001b[0m        \u001b[0mdt\u001b[0m\u001b[0;34m=\u001b[0m\u001b[0;36m1\u001b[0m\u001b[0;34m/\u001b[0m\u001b[0;36m60\u001b[0m\u001b[0;34m,\u001b[0m\u001b[0;34m\u001b[0m\u001b[0;34m\u001b[0m\u001b[0m\n\u001b[0;32m---> 12\u001b[0;31m        \u001b[0mdt_display\u001b[0m\u001b[0;34m=\u001b[0m\u001b[0;36m2\u001b[0m\u001b[0;34m,\u001b[0m  \u001b[0;31m# make this larger for a faster display\u001b[0m\u001b[0;34m\u001b[0m\u001b[0;34m\u001b[0m\u001b[0m\n\u001b[0m\u001b[1;32m     13\u001b[0m        )\n",
      "\u001b[0;32m~/opt/anaconda3/lib/python3.7/site-packages/RobotSim373/robotsim.py\u001b[0m in \u001b[0;36mrun_sim\u001b[0;34m(env, dt, dt_display)\u001b[0m\n\u001b[1;32m    313\u001b[0m         \u001b[0;32mtry\u001b[0m\u001b[0;34m:\u001b[0m\u001b[0;34m\u001b[0m\u001b[0;34m\u001b[0m\u001b[0m\n\u001b[1;32m    314\u001b[0m \u001b[0;34m\u001b[0m\u001b[0m\n\u001b[0;32m--> 315\u001b[0;31m             \u001b[0mact_forward_turn_example\u001b[0m\u001b[0;34m(\u001b[0m\u001b[0menv\u001b[0m\u001b[0;34m.\u001b[0m\u001b[0mt\u001b[0m\u001b[0;34m,\u001b[0m\u001b[0mrobot\u001b[0m\u001b[0;34m)\u001b[0m\u001b[0;34m\u001b[0m\u001b[0;34m\u001b[0m\u001b[0m\n\u001b[0m\u001b[1;32m    316\u001b[0m \u001b[0;34m\u001b[0m\u001b[0m\n\u001b[1;32m    317\u001b[0m             \u001b[0menv\u001b[0m\u001b[0;34m.\u001b[0m\u001b[0mupdate\u001b[0m\u001b[0;34m(\u001b[0m\u001b[0mdt\u001b[0m\u001b[0;34m)\u001b[0m\u001b[0;34m\u001b[0m\u001b[0;34m\u001b[0m\u001b[0m\n",
      "\u001b[0;31mNameError\u001b[0m: name 'act_forward_turn_example' is not defined"
     ]
    }
   ],
   "source": [
    "env=Environment(24,24)  # size of the environment\n",
    "robot=Robot(env)\n",
    "\n",
    "robot=build(robot)\n",
    "\n",
    "# put a bunch of blocks\n",
    "for y in arange(1,20,0.5):\n",
    "    Box(env,10,y,width=0.2,height=0.2,density=0.01)\n",
    "\n",
    "run_sim(env,act_forward_turn_example,\n",
    "        total_time=80,  # seconds\n",
    "        dt=1/60,\n",
    "        dt_display=2,  # make this larger for a faster display\n",
    "       )"
   ]
  },
  {
   "cell_type": "code",
   "execution_count": null,
   "metadata": {},
   "outputs": [],
   "source": []
  }
 ],
 "metadata": {
  "kernelspec": {
   "display_name": "Python 3",
   "language": "python",
   "name": "python3"
  },
  "language_info": {
   "codemirror_mode": {
    "name": "ipython",
    "version": 3
   },
   "file_extension": ".py",
   "mimetype": "text/x-python",
   "name": "python",
   "nbconvert_exporter": "python",
   "pygments_lexer": "ipython3",
   "version": "3.7.6"
  }
 },
 "nbformat": 4,
 "nbformat_minor": 4
}
