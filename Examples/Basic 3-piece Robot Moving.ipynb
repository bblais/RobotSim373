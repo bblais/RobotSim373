{
 "cells": [
  {
   "cell_type": "code",
   "execution_count": 1,
   "metadata": {},
   "outputs": [
    {
     "name": "stdout",
     "output_type": "stream",
     "text": [
      "Populating the interactive namespace from numpy and matplotlib\n"
     ]
    }
   ],
   "source": [
    "%pylab inline"
   ]
  },
  {
   "cell_type": "code",
   "execution_count": 5,
   "metadata": {},
   "outputs": [
    {
     "name": "stdout",
     "output_type": "stream",
     "text": [
      "Version:  0.0.1\n"
     ]
    }
   ],
   "source": [
    "from RobotSim373 import *"
   ]
  },
  {
   "cell_type": "code",
   "execution_count": 8,
   "metadata": {},
   "outputs": [],
   "source": [
    "def build(robot):\n",
    "    box1=Box(robot,3,4.5,name='right')  # location given, width=height=1.0 default\n",
    "    box2=Box(robot,3,6.5,name='left')\n",
    "    \n",
    "    connect(box1,box2,'weld')\n",
    "\n",
    "    disk1=Disk(robot,2,5.5,name='center')  # radius = 0.5 default\n",
    "    \n",
    "    connect(disk1,box1,'distance')\n",
    "    connect(disk1,box2,'distance')\n",
    "    \n",
    "    return robot\n",
    "    "
   ]
  },
  {
   "cell_type": "code",
   "execution_count": 7,
   "metadata": {},
   "outputs": [],
   "source": [
    "def act_forward_backward_example(t,robot):\n",
    "    \n",
    "    if t<10:\n",
    "        robot['left'].F=0.4\n",
    "        robot['right'].F=0.4\n",
    "    elif t<60:\n",
    "        robot['left'].F=-0.4\n",
    "        robot['right'].F=-0.4\n",
    "    else:\n",
    "        robot['left'].F=0\n",
    "        robot['right'].F=0\n",
    "        \n",
    "def act_forward_turn_example(t,robot):\n",
    "    \n",
    "    if robot['center'].x>12:\n",
    "        robot['left'].F=-0.2\n",
    "        robot['right'].F=-0.25\n",
    "    else:\n",
    "        robot['left'].F=0.4\n",
    "        robot['right'].F=0.45\n",
    "    \n",
    "    if t>70:\n",
    "        robot['left'].F=0\n",
    "        robot['right'].F=0\n",
    "        \n",
    "        "
   ]
  },
  {
   "cell_type": "code",
   "execution_count": null,
   "metadata": {},
   "outputs": [],
   "source": [
    "env=Environment(24,24)  # size of the environment\n",
    "robot=Robot(env)\n",
    "\n",
    "robot=build(robot)\n",
    "\n",
    "# put a bunch of blocks\n",
    "for y in arange(1,20,0.5):\n",
    "    Box(env,10,y,width=0.2,height=0.2,density=0.01)\n",
    "\n",
    "run_sim(env,\n",
    "       dt=1/60,\n",
    "       dt_display=2,  # make this larger for a faster display\n",
    "       )"
   ]
  }
 ],
 "metadata": {
  "kernelspec": {
   "display_name": "Python 3",
   "language": "python",
   "name": "python3"
  },
  "language_info": {
   "codemirror_mode": {
    "name": "ipython",
    "version": 3
   },
   "file_extension": ".py",
   "mimetype": "text/x-python",
   "name": "python",
   "nbconvert_exporter": "python",
   "pygments_lexer": "ipython3",
   "version": "3.7.6"
  }
 },
 "nbformat": 4,
 "nbformat_minor": 4
}
