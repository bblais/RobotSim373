{
 "cells": [
  {
   "cell_type": "code",
   "execution_count": 1,
   "id": "30984875-8076-4ea8-b3cf-94059438779a",
   "metadata": {},
   "outputs": [
    {
     "name": "stdout",
     "output_type": "stream",
     "text": [
      "Populating the interactive namespace from numpy and matplotlib\n"
     ]
    }
   ],
   "source": [
    "%pylab inline"
   ]
  },
  {
   "cell_type": "code",
   "execution_count": 2,
   "id": "ea73ca4d-7962-4d0d-8bb1-3d3f01dfb87b",
   "metadata": {},
   "outputs": [
    {
     "name": "stdout",
     "output_type": "stream",
     "text": [
      "Version:  0.0.32\n"
     ]
    }
   ],
   "source": [
    "from RobotSim373 import *"
   ]
  },
  {
   "cell_type": "code",
   "execution_count": 7,
   "id": "bbe5f2f1-ff24-48a4-9fc8-0d0450d4acf0",
   "metadata": {},
   "outputs": [],
   "source": [
    "def build(robot):\n",
    "    box1=Box(robot,x=3,y=9.5,name=\"right\")\n",
    "    box2=Box(robot,x=3,y=11.5,name=\"left\")    \n",
    "    \n",
    "    connect(box1,box2,\"weld\")\n",
    "    \n",
    "    disk1=Disk(robot,x=2,y=10.5,name=\"center\")\n",
    "    \n",
    "    connect(disk1,box1,\"distance\")\n",
    "    connect(disk1,box2,\"distance\")    "
   ]
  },
  {
   "cell_type": "code",
   "execution_count": 8,
   "id": "2afe5d8a-2b22-4fb4-940c-de29588911f6",
   "metadata": {},
   "outputs": [],
   "source": [
    "def act1(t,robot):\n",
    "    robot.message=\"Act 1\"\n",
    "    if t>5:\n",
    "        return True\n",
    "    "
   ]
  },
  {
   "cell_type": "code",
   "execution_count": 9,
   "id": "68c7093a-a15a-49d6-818f-8fea9365205c",
   "metadata": {},
   "outputs": [],
   "source": [
    "def act2(t,robot):\n",
    "    robot.message=\"Act 2\"\n",
    "    if t>5:\n",
    "        return True\n",
    "    "
   ]
  },
  {
   "cell_type": "code",
   "execution_count": 10,
   "id": "c6602028-747d-43f7-a877-d25e9ba4364f",
   "metadata": {},
   "outputs": [],
   "source": [
    "def act3(t,robot):\n",
    "    robot.message=\"Act 3\"\n",
    "    if t>5:\n",
    "        return True\n",
    "    "
   ]
  },
  {
   "cell_type": "code",
   "execution_count": null,
   "id": "383f6fc5-d6a4-419a-8bed-0392e6a0d505",
   "metadata": {},
   "outputs": [],
   "source": []
  },
  {
   "cell_type": "code",
   "execution_count": 11,
   "id": "fbce6ffd-8281-4538-a6b6-630f7b66e34b",
   "metadata": {},
   "outputs": [
    {
     "data": {
      "image/png": "[encoded data removed]",
      "text/plain": [
       "<Figure size 432x432 with 1 Axes>"
      ]
     },
     "metadata": {
      "needs_background": "light"
     },
     "output_type": "display_data"
    }
   ],
   "source": [
    "env=Environment(24,24)\n",
    "robot=Robot(env)\n",
    "build(robot)\n",
    "\n",
    "Box(env,x=15,y=11,width=0.2,height=10)\n",
    "\n",
    "\n",
    "run_sim(env,[act1,act2,act3],\n",
    "        figure_width=6,\n",
    "       total_time=80,\n",
    "       dt_display=0.5,  # make this larger for a faster display\n",
    "       )"
   ]
  },
  {
   "cell_type": "markdown",
   "id": "3d6e08d9-6f0a-4119-9342-a27d10d0fd82",
   "metadata": {},
   "source": [
    "## rewrite the distance sensor example in terms of behaviors"
   ]
  },
  {
   "cell_type": "code",
   "execution_count": 14,
   "id": "405b3882-fff4-4a66-82ab-c35ac3ba122a",
   "metadata": {},
   "outputs": [],
   "source": [
    "def forward(t,robot):\n",
    "    robot['left'].F=0.1\n",
    "    robot['right'].F=0.1\n",
    "    robot.message='Forward'\n",
    "    return True\n",
    "\n",
    "def backward(t,robot):\n",
    "    robot['left'].F=-0.1\n",
    "    robot['right'].F=-0.1\n",
    "    robot.message='Backward'\n",
    "    return True\n",
    "\n",
    "def until_close(t,robot):\n",
    "    distance=robot['center'].read_distance()\n",
    "    robot.message='Until Close'\n",
    "    if distance<10:\n",
    "        return True\n",
    "    \n",
    "def until_far(t,robot):\n",
    "    distance=robot['center'].read_distance()\n",
    "    robot.message='Until Far'\n",
    "    if distance>10:\n",
    "        return True\n",
    "    \n"
   ]
  },
  {
   "cell_type": "code",
   "execution_count": 15,
   "id": "af804f98-7e39-48ff-ae95-cd78a562b263",
   "metadata": {},
   "outputs": [
    {
     "data": {
      "image/png": "[encoded data removed]",
      "text/plain": [
       "<Figure size 432x432 with 1 Axes>"
      ]
     },
     "metadata": {
      "needs_background": "light"
     },
     "output_type": "display_data"
    }
   ],
   "source": [
    "env=Environment(24,24)\n",
    "robot=Robot(env)\n",
    "build(robot)\n",
    "\n",
    "Box(env,x=15,y=11,width=0.2,height=10)\n",
    "\n",
    "\n",
    "run_sim(env,[forward,until_close,backward,until_far],\n",
    "        figure_width=6,\n",
    "       total_time=80,\n",
    "       dt_display=0.5,  # make this larger for a faster display\n",
    "       )"
   ]
  },
  {
   "cell_type": "code",
   "execution_count": null,
   "id": "e5ada1d0-f9bb-4326-8f3b-33b38432b730",
   "metadata": {},
   "outputs": [],
   "source": []
  }
 ],
 "metadata": {
  "kernelspec": {
   "display_name": "Python 3",
   "language": "python",
   "name": "python3"
  },
  "language_info": {
   "codemirror_mode": {
    "name": "ipython",
    "version": 3
   },
   "file_extension": ".py",
   "mimetype": "text/x-python",
   "name": "python",
   "nbconvert_exporter": "python",
   "pygments_lexer": "ipython3",
   "version": "3.8.10"
  }
 },
 "nbformat": 4,
 "nbformat_minor": 5
}
