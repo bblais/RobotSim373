{
 "cells": [
  {
   "cell_type": "code",
   "execution_count": 1,
   "id": "a06f0e1c-2fd0-4a00-b87d-69348f2be29a",
   "metadata": {},
   "outputs": [
    {
     "name": "stdout",
     "output_type": "stream",
     "text": [
      "Populating the interactive namespace from numpy and matplotlib\n"
     ]
    }
   ],
   "source": [
    "%pylab inline"
   ]
  },
  {
   "cell_type": "code",
   "execution_count": 2,
   "id": "95acf729-87a6-4c64-83c9-a43af4ab353b",
   "metadata": {},
   "outputs": [
    {
     "name": "stdout",
     "output_type": "stream",
     "text": [
      "Version:  0.0.32\n"
     ]
    }
   ],
   "source": [
    "from RobotSim373 import *"
   ]
  },
  {
   "cell_type": "code",
   "execution_count": 3,
   "id": "fb65bb18-5d6e-48cc-9a8b-529797e1a173",
   "metadata": {},
   "outputs": [],
   "source": [
    "def build(robot):\n",
    "    box1=Box(robot,x=3,y=9.5,name=\"right\")\n",
    "    box2=Box(robot,x=3,y=11.5,name=\"left\")    \n",
    "    \n",
    "    connect(box1,box2,\"weld\")\n",
    "    \n",
    "    disk1=Disk(robot,x=2,y=10.5,name=\"center\")\n",
    "    \n",
    "    connect(disk1,box1,\"distance\")\n",
    "    connect(disk1,box2,\"distance\")    "
   ]
  },
  {
   "cell_type": "code",
   "execution_count": 4,
   "id": "50125f6f-0c19-42c5-a145-6ac547653c4b",
   "metadata": {},
   "outputs": [],
   "source": [
    "def forward(t,robot):\n",
    "    robot['left'].F=0.1\n",
    "    robot['right'].F=0.1\n",
    "    robot.message='Forward'\n",
    "    return True\n",
    "\n",
    "def backward(t,robot):\n",
    "    robot['left'].F=-0.1\n",
    "    robot['right'].F=-0.1\n",
    "    robot.message='Backward'\n",
    "    return True\n",
    "\n",
    "def until_close(t,robot):\n",
    "    distance=robot['center'].read_distance()\n",
    "    robot.message='Until Close'\n",
    "    if distance<10:\n",
    "        return True\n",
    "    \n",
    "def until_far(t,robot):\n",
    "    distance=robot['center'].read_distance()\n",
    "    robot.message='Until Far'\n",
    "    if distance>10:\n",
    "        return True\n",
    "    \n"
   ]
  },
  {
   "cell_type": "code",
   "execution_count": 5,
   "id": "a599c63b-03e2-46cd-8e58-43fd4292cf62",
   "metadata": {},
   "outputs": [
    {
     "data": {
      "image/png": "[encoded data removed]",
      "text/plain": [
       "<Figure size 432x432 with 1 Axes>"
      ]
     },
     "metadata": {
      "needs_background": "light"
     },
     "output_type": "display_data"
    }
   ],
   "source": [
    "env=Environment(24,24)\n",
    "robot=Robot(env)\n",
    "build(robot)\n",
    "\n",
    "Box(env,x=15,y=11,width=0.2,height=10)\n",
    "\n",
    "\n",
    "run_sim(env,[forward,until_close,backward,until_far],\n",
    "        figure_width=6,\n",
    "       total_time=80,\n",
    "       dt_display=0.5,  # make this larger for a faster display\n",
    "       )"
   ]
  },
  {
   "cell_type": "markdown",
   "id": "49f51a5f-ff14-4197-9085-cf650f7b7703",
   "metadata": {},
   "source": [
    "## rewrite with finite state machine"
   ]
  },
  {
   "cell_type": "code",
   "execution_count": 6,
   "id": "2ae2bad5-1bcc-485c-861c-f0315e834075",
   "metadata": {},
   "outputs": [],
   "source": [
    "def forward(t,robot):\n",
    "    robot['left'].F=0.1\n",
    "    robot['right'].F=0.1\n",
    "    return True\n",
    "\n",
    "def backward(t,robot):\n",
    "    robot['left'].F=-0.1\n",
    "    robot['right'].F=-0.1\n",
    "    return True\n",
    "\n",
    "def until_close(t,robot):\n",
    "    distance=robot['center'].read_distance()\n",
    "    if distance<10:\n",
    "        return True\n",
    "    \n",
    "def until_far(t,robot):\n",
    "    distance=robot['center'].read_distance()\n",
    "    if distance>10:\n",
    "        return True\n",
    "    \n",
    "    \n",
    "def monitor(t,robot):\n",
    "    robot.message=robot.controller.current_state\n"
   ]
  },
  {
   "cell_type": "code",
   "execution_count": 13,
   "id": "3b44d332-360f-45d3-a6f3-237d2d33e8de",
   "metadata": {},
   "outputs": [],
   "source": [
    "state_machine=StateMachine(\n",
    "    (forward,'until_close'),\n",
    "    (until_far,'forward'),\n",
    "    (backward,'until_far'),\n",
    "    (until_close,'backward'),\n",
    ")\n"
   ]
  },
  {
   "cell_type": "code",
   "execution_count": null,
   "id": "023ea789-8c5d-47ac-b4f7-710416c9a683",
   "metadata": {},
   "outputs": [],
   "source": []
  },
  {
   "cell_type": "code",
   "execution_count": 14,
   "id": "b4dbd486-9726-4b43-af9a-aa7c20302881",
   "metadata": {},
   "outputs": [
    {
     "data": {
      "image/png": "[encoded data removed]",
      "text/plain": [
       "<Figure size 432x432 with 1 Axes>"
      ]
     },
     "metadata": {
      "needs_background": "light"
     },
     "output_type": "display_data"
    }
   ],
   "source": [
    "env=Environment(24,24)\n",
    "robot=Robot(env)\n",
    "build(robot)\n",
    "\n",
    "robot.controller=Controller(state_machine)\n",
    "robot.controller.monitor=monitor\n",
    "\n",
    "Box(env,x=15,y=11,width=0.2,height=10)\n",
    "\n",
    "\n",
    "run_sim(env,robot.controller,\n",
    "        figure_width=6,\n",
    "       total_time=80,\n",
    "       dt_display=0.5,  # make this larger for a faster display\n",
    "       )"
   ]
  },
  {
   "cell_type": "markdown",
   "id": "1815c805-a651-4aa5-b904-0336c89b2c48",
   "metadata": {},
   "source": [
    "# a more complex example"
   ]
  },
  {
   "cell_type": "markdown",
   "id": "0e886db2-57b9-4ab2-b245-1f3c47518027",
   "metadata": {},
   "source": [
    "- have the robot approach until a certain distance\n",
    "- look a bit left and right to see where the wall ends\n",
    "- if the wall ends to the right, then turn right and go forward\n",
    "- if the wall ends to the left, then turn left and go forward\n",
    "- if the wall doesn't end, then go backward"
   ]
  },
  {
   "cell_type": "markdown",
   "id": "61402d05-b7b0-4de7-8485-e5fa7de9f70a",
   "metadata": {},
   "source": [
    "### first, introduce a friction environment -- makes stopping easier"
   ]
  },
  {
   "cell_type": "code",
   "execution_count": 7,
   "id": "00d2629c-b728-4a54-8080-5558434bb88c",
   "metadata": {},
   "outputs": [],
   "source": [
    "def forward(t,robot):\n",
    "    robot['left'].F=4\n",
    "    robot['right'].F=4\n",
    "    return True\n",
    "\n",
    "def backward(t,robot):\n",
    "    robot['left'].F=-4\n",
    "    robot['right'].F=-4\n",
    "    return True\n",
    "\n",
    "def stop(t,robot):\n",
    "    robot['left'].F=0\n",
    "    robot['right'].F=0\n",
    "    return True\n",
    "\n",
    "def until_close(t,robot):\n",
    "    distance=robot['center'].read_distance()\n",
    "    if distance<6:\n",
    "        return True\n",
    "    \n",
    "def until_far(t,robot):\n",
    "    distance=robot['center'].read_distance()\n",
    "    if distance>10:\n",
    "        return True\n",
    "    \n",
    "def look_left(t,robot):\n",
    "    robot['center'].τ=0.2\n",
    "    \n",
    "    if robot['center'].angle>45:\n",
    "        robot['center'].τ=0\n",
    "        return True\n",
    "        \n",
    "def save_distance_left(t,robot):\n",
    "    distance=robot['center'].read_distance()\n",
    "    robot['center'].left_distance=distance\n",
    "    return True\n",
    "    \n",
    "def look_right(t,robot):\n",
    "    robot['center'].τ=-0.2\n",
    "    \n",
    "    if robot['center'].angle<315 and robot['center'].angle>300:\n",
    "        robot['center'].τ=0\n",
    "        return True\n",
    "        \n",
    "def save_distance_right(t,robot):\n",
    "    distance=robot['center'].read_distance()\n",
    "    robot['center'].right_distance=distance\n",
    "    return True\n",
    "    \n",
    "def look_straight(t,robot):\n",
    "    robot['center'].τ=0.2\n",
    "    \n",
    "    if robot['center'].angle>0 and robot['center'].angle<10:\n",
    "        robot['center'].τ=0\n",
    "        return True\n",
    "      \n",
    "def choose_right_or_left(t,robot):\n",
    "    \n",
    "    L,R=robot['center'].left_distance,robot['center'].right_distance\n",
    "    \n",
    "    if L>1.1*R:\n",
    "        return 'turn_robot_left'\n",
    "    elif R>1.1*L:\n",
    "        return 'turn_robot_right'\n",
    "    else:\n",
    "        return 'backward'\n",
    "    \n",
    "def angular_difference(angle1,angle2):\n",
    "    return 180-abs(abs(angle1-angle2)-180)\n",
    "    \n",
    "def turn_robot_left(t,robot):\n",
    "    robot['left'].F=-4\n",
    "    robot['right'].F=4\n",
    "    \n",
    "    if angular_difference(robot['left'].angle,0) > 45:\n",
    "        return True\n",
    "    \n",
    "def turn_robot_right(t,robot):\n",
    "    robot['left'].F=4\n",
    "    robot['right'].F=-4\n",
    "    \n",
    "    if angular_difference(robot['right'].angle,0) > 45:\n",
    "        return True\n",
    "    \n",
    "def until_closer(t,robot):\n",
    "    robot['left'].F=4\n",
    "    robot['right'].F=4\n",
    "    \n",
    "    distance=robot['right'].read_distance()\n",
    "    if distance<6:\n",
    "        return True\n",
    "    \n",
    "    \n",
    "def monitor(t,robot):\n",
    "    robot.message=robot.controller.current_state\n"
   ]
  },
  {
   "cell_type": "code",
   "execution_count": null,
   "id": "2d7a3534-7454-4713-8fb2-be6d512c9b12",
   "metadata": {},
   "outputs": [],
   "source": []
  },
  {
   "cell_type": "code",
   "execution_count": null,
   "id": "2cf3ad2e-4224-4309-9ebd-a03a79836ada",
   "metadata": {},
   "outputs": [],
   "source": []
  },
  {
   "cell_type": "code",
   "execution_count": 8,
   "id": "8cc71141-bf04-4a92-a2fa-c6433c4079e9",
   "metadata": {},
   "outputs": [],
   "source": [
    "state_machine=StateMachine(\n",
    "    (forward,'until_close'),\n",
    "    (until_close,'stop'),\n",
    "    (stop,'look_left'),\n",
    "    (look_left,'save_distance_left'),\n",
    "    (save_distance_left,'look_right'),\n",
    "    (look_right,'save_distance_right'),\n",
    "    (save_distance_right,'look_straight'),\n",
    "    (look_straight,'choose_right_or_left'),\n",
    "    (choose_right_or_left,'_end_simulation'),\n",
    "    (turn_robot_left,'until_closer'),\n",
    "    (turn_robot_right,'until_closer'),\n",
    "    (until_closer,'_end_simulation'),\n",
    "    (backward,'until_far'),\n",
    "    (until_far,'_end_simulation')    \n",
    ")\n"
   ]
  },
  {
   "cell_type": "code",
   "execution_count": 12,
   "id": "a4d60026-0e54-4274-84bc-04c71fa6caae",
   "metadata": {},
   "outputs": [
    {
     "data": {
      "image/png": "[encoded data removed]",
      "text/plain": [
       "<Figure size 432x432 with 1 Axes>"
      ]
     },
     "metadata": {
      "needs_background": "light"
     },
     "output_type": "display_data"
    }
   ],
   "source": [
    "env=FrictionEnvironment(24,24)\n",
    "robot=Robot(env)\n",
    "build(robot)\n",
    "\n",
    "robot.controller=Controller(state_machine)\n",
    "robot.controller.monitor=monitor\n",
    "\n",
    "#Box(env,x=15,y=6,width=0.2,height=10)   # should turn left\n",
    "Box(env,x=15,y=14,width=0.2,height=10)  # should turn right\n",
    "#Box(env,x=15,y=12,width=0.2,height=20)  # should back up\n",
    "\n",
    "run_sim(env,robot.controller,\n",
    "        figure_width=6,\n",
    "       total_time=80,\n",
    "       dt_display=0.5,  # make this larger for a faster display\n",
    "       )"
   ]
  },
  {
   "cell_type": "code",
   "execution_count": 45,
   "id": "12448126-41ce-4a62-b4fd-c4e2208242b2",
   "metadata": {},
   "outputs": [
    {
     "data": {
      "text/plain": [
       "4.208031654097794"
      ]
     },
     "execution_count": 45,
     "metadata": {},
     "output_type": "execute_result"
    }
   ],
   "source": [
    "robot['center'].left_distance"
   ]
  },
  {
   "cell_type": "code",
   "execution_count": 46,
   "id": "b42842f5-4420-422a-98d4-b935b6baf307",
   "metadata": {},
   "outputs": [
    {
     "data": {
      "text/plain": [
       "14.66369563473179"
      ]
     },
     "execution_count": 46,
     "metadata": {},
     "output_type": "execute_result"
    }
   ],
   "source": [
    "robot['center'].right_distance"
   ]
  },
  {
   "cell_type": "code",
   "execution_count": null,
   "id": "d4515512-d8a1-4c02-ad21-cfc7de4dd743",
   "metadata": {},
   "outputs": [],
   "source": []
  }
 ],
 "metadata": {
  "kernelspec": {
   "display_name": "Python 3",
   "language": "python",
   "name": "python3"
  },
  "language_info": {
   "codemirror_mode": {
    "name": "ipython",
    "version": 3
   },
   "file_extension": ".py",
   "mimetype": "text/x-python",
   "name": "python",
   "nbconvert_exporter": "python",
   "pygments_lexer": "ipython3",
   "version": "3.8.10"
  }
 },
 "nbformat": 4,
 "nbformat_minor": 5
}
