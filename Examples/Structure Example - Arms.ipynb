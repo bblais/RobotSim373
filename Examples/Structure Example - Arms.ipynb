{
 "cells": [
  {
   "cell_type": "code",
   "execution_count": 1,
   "metadata": {},
   "outputs": [
    {
     "name": "stdout",
     "output_type": "stream",
     "text": [
      "Populating the interactive namespace from numpy and matplotlib\n"
     ]
    }
   ],
   "source": [
    "%pylab inline"
   ]
  },
  {
   "cell_type": "code",
   "execution_count": 2,
   "metadata": {},
   "outputs": [
    {
     "name": "stdout",
     "output_type": "stream",
     "text": [
      "Version:  0.0.6\n"
     ]
    }
   ],
   "source": [
    "from RobotSim373 import *"
   ]
  },
  {
   "cell_type": "code",
   "execution_count": 3,
   "metadata": {},
   "outputs": [],
   "source": [
    "def build_box(robot,x,y,name=''):\n",
    "    width=2\n",
    "    thickness=0.5\n",
    "    \n",
    "    b1=Box(robot,\n",
    "        x=0+x,\n",
    "        y=width/2+thickness+y,\n",
    "         width=width,height=thickness,\n",
    "        name=name+':top')\n",
    "    b2=Box(robot,\n",
    "        x=0+x,\n",
    "        y=-width/2-thickness+y,\n",
    "         width=width,height=thickness,\n",
    "        name=name+':bottom')\n",
    "    b3=Box(robot,\n",
    "        x=-width/2-thickness+x,\n",
    "        y=0+y,\n",
    "         width=thickness,height=width,\n",
    "        name=name+':left')\n",
    "    b4=Box(robot,\n",
    "        x=+width/2+thickness+x,\n",
    "        y=0+y,\n",
    "         width=thickness,height=width,\n",
    "        name=name+':right')\n",
    "    \n",
    "    connect(b1,[b2,b3,b4],'weld')\n",
    "    \n",
    "    return [b1,b2,b3,b4]\n",
    "\n",
    "def build(robot):\n",
    "    \n",
    "    y=rand()*9+3\n",
    "    bob=build_box(robot,4,y,'bob')\n",
    "    \n",
    "    disk=Disk(robot,4,y,radius=0.8,name='bob:center')  # radius = 0.5 default\n",
    "    \n",
    "    connect(disk,bob,'distance')\n",
    "    distances=robot.distances=[-1]*360    \n",
    "    \n",
    "    elbow_left=Disk(robot,5.5,y+1.5,radius=0.3,name='bob:elbow_left')\n",
    "    elbow_right=Disk(robot,5.5,y-1.5,radius=0.3,name='bob:elbow_right')\n",
    "    connect(elbow_left,bob,'distance')\n",
    "    connect(elbow_right,bob,'distance')\n",
    "    \n",
    "    width=2\n",
    "    b1=Box(robot,\n",
    "        x=5.8+width/2,\n",
    "        y=y+1.5,\n",
    "         width=width,height=.3,\n",
    "        name='bob:arm_left')\n",
    "    \n",
    "    connect(elbow_left,b1,'weld')\n",
    "\n",
    "    \n",
    "    b1=Box(robot,\n",
    "        x=5.8+width/2,\n",
    "        y=y-1.5,\n",
    "         width=width,height=.3,\n",
    "        name='bob:arm_right')\n",
    "    \n",
    "    connect(elbow_right,b1,'weld')\n",
    "    \n",
    "    return robot\n",
    "\n"
   ]
  },
  {
   "cell_type": "code",
   "execution_count": 4,
   "metadata": {},
   "outputs": [],
   "source": [
    "def act(t,robot):\n",
    "\n",
    "    \n",
    "    robot.message=robot['bob:center'].read_distance()\n",
    "    \n",
    "    if t<5:\n",
    "        return\n",
    "    \n",
    "    robot['bob:right'].F=0.5\n",
    "    \n",
    "    if t<10:\n",
    "        robot['bob:elbow_left'].τ=.2\n",
    "        robot['bob:elbow_right'].τ=-.2\n",
    "        return\n",
    "    \n",
    "    \n",
    "    if t<20:\n",
    "        robot['bob:elbow_left'].τ=-.2\n",
    "        robot['bob:elbow_right'].τ=.2\n",
    "        return\n",
    "    \n",
    "\n",
    "    "
   ]
  },
  {
   "cell_type": "code",
   "execution_count": 8,
   "metadata": {},
   "outputs": [
    {
     "data": {
      "image/png": "[encoded data removed]",
      "text/plain": [
       "<Figure size 576x576 with 1 Axes>"
      ]
     },
     "metadata": {
      "needs_background": "light"
     },
     "output_type": "display_data"
    }
   ],
   "source": [
    "env=Environment(24,24) \n",
    "robot=Robot(env)\n",
    "\n",
    "robot=build(robot)\n",
    "\n",
    "\n",
    "for y in arange(1,20,5):\n",
    "    Box(env,10,y,width=1,height=1,angle=30,density=0.001)\n",
    "\n",
    "run_sim(env,act,\n",
    "        total_time=80,  # seconds\n",
    "        dt=1/60,\n",
    "        dt_display=1,  # make this larger for a faster display\n",
    "        plot_orientation=True,\n",
    "        figure_width=8,\n",
    "       )"
   ]
  },
  {
   "cell_type": "code",
   "execution_count": null,
   "metadata": {},
   "outputs": [],
   "source": []
  }
 ],
 "metadata": {
  "kernelspec": {
   "display_name": "Python 3",
   "language": "python",
   "name": "python3"
  },
  "language_info": {
   "codemirror_mode": {
    "name": "ipython",
    "version": 3
   },
   "file_extension": ".py",
   "mimetype": "text/x-python",
   "name": "python",
   "nbconvert_exporter": "python",
   "pygments_lexer": "ipython3",
   "version": "3.7.6"
  }
 },
 "nbformat": 4,
 "nbformat_minor": 4
}
