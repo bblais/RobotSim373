{
 "cells": [
  {
   "cell_type": "code",
   "execution_count": 1,
   "id": "5dbba454-c74e-478b-bd0c-212dca956913",
   "metadata": {},
   "outputs": [
    {
     "name": "stdout",
     "output_type": "stream",
     "text": [
      "Populating the interactive namespace from numpy and matplotlib\n"
     ]
    }
   ],
   "source": [
    "%pylab inline"
   ]
  },
  {
   "cell_type": "code",
   "execution_count": 3,
   "id": "9cc08d86-510f-4076-86e9-1d88365ba600",
   "metadata": {},
   "outputs": [
    {
     "name": "stdout",
     "output_type": "stream",
     "text": [
      "Collecting box2d\n",
      "  Using cached Box2D-2.3.10-cp38-cp38-macosx_10_9_x86_64.whl (1.3 MB)\n",
      "Installing collected packages: box2d\n",
      "Successfully installed box2d-2.3.10\n"
     ]
    }
   ],
   "source": [
    "!pip install box2d"
   ]
  },
  {
   "cell_type": "code",
   "execution_count": 4,
   "id": "c48c8015-c7ae-428c-b1b8-7541a043d390",
   "metadata": {},
   "outputs": [
    {
     "name": "stdout",
     "output_type": "stream",
     "text": [
      "Collecting git+git://github.com/bblais/RobotSim373\n",
      "  Cloning git://github.com/bblais/RobotSim373 to /Users/bblais/tmp/pip-req-build-v1zf1em2\n",
      "  Running command git clone -q git://github.com/bblais/RobotSim373 /Users/bblais/tmp/pip-req-build-v1zf1em2\n",
      "Requirement already satisfied: box2d in /Users/bblais/opt/anaconda3/lib/python3.8/site-packages (from RobotSim373==0.0.32) (2.3.10)\n",
      "Requirement already satisfied: matplotlib in /Users/bblais/opt/anaconda3/lib/python3.8/site-packages (from RobotSim373==0.0.32) (3.3.4)\n",
      "Collecting pyglet\n",
      "  Downloading pyglet-1.5.21-py3-none-any.whl (1.1 MB)\n",
      "\u001b[K     |████████████████████████████████| 1.1 MB 3.5 MB/s eta 0:00:01\n",
      "\u001b[?25hRequirement already satisfied: kiwisolver>=1.0.1 in /Users/bblais/opt/anaconda3/lib/python3.8/site-packages (from matplotlib->RobotSim373==0.0.32) (1.3.1)\n",
      "Requirement already satisfied: cycler>=0.10 in /Users/bblais/opt/anaconda3/lib/python3.8/site-packages (from matplotlib->RobotSim373==0.0.32) (0.10.0)\n",
      "Requirement already satisfied: pillow>=6.2.0 in /Users/bblais/opt/anaconda3/lib/python3.8/site-packages (from matplotlib->RobotSim373==0.0.32) (8.2.0)\n",
      "Requirement already satisfied: numpy>=1.15 in /Users/bblais/opt/anaconda3/lib/python3.8/site-packages (from matplotlib->RobotSim373==0.0.32) (1.20.1)\n",
      "Requirement already satisfied: pyparsing!=2.0.4,!=2.1.2,!=2.1.6,>=2.0.3 in /Users/bblais/opt/anaconda3/lib/python3.8/site-packages (from matplotlib->RobotSim373==0.0.32) (2.4.7)\n",
      "Requirement already satisfied: python-dateutil>=2.1 in /Users/bblais/opt/anaconda3/lib/python3.8/site-packages (from matplotlib->RobotSim373==0.0.32) (2.8.1)\n",
      "Requirement already satisfied: six in /Users/bblais/opt/anaconda3/lib/python3.8/site-packages (from cycler>=0.10->matplotlib->RobotSim373==0.0.32) (1.15.0)\n",
      "Building wheels for collected packages: RobotSim373\n",
      "  Building wheel for RobotSim373 (setup.py) ... \u001b[?25ldone\n",
      "\u001b[?25h  Created wheel for RobotSim373: filename=RobotSim373-0.0.32-py3-none-any.whl size=8509 sha256=2ecbe7510ef9b986133503184eb5d4bb448eb08ca42682907037ba565ed70200\n",
      "  Stored in directory: /Users/bblais/tmp/pip-ephem-wheel-cache-jw4wg_wb/wheels/53/c2/32/0e474631c7e4eb80e15920a6a0dc4f1c9683cd981f31608cb8\n",
      "Successfully built RobotSim373\n",
      "Installing collected packages: pyglet, RobotSim373\n",
      "Successfully installed RobotSim373-0.0.32 pyglet-1.5.21\n"
     ]
    }
   ],
   "source": [
    "!pip install \"git+git://github.com/bblais/RobotSim373\" --upgrade"
   ]
  },
  {
   "cell_type": "code",
   "execution_count": 5,
   "id": "127c9eb1-b9b6-4082-b495-b6e128c27efb",
   "metadata": {},
   "outputs": [
    {
     "name": "stdout",
     "output_type": "stream",
     "text": [
      "Version:  0.0.32\n"
     ]
    }
   ],
   "source": [
    "from RobotSim373 import *"
   ]
  },
  {
   "cell_type": "code",
   "execution_count": null,
   "id": "4b1b9895-b0a7-4c9c-8dc5-49b68c15b10e",
   "metadata": {},
   "outputs": [],
   "source": []
  }
 ],
 "metadata": {
  "kernelspec": {
   "display_name": "Python 3",
   "language": "python",
   "name": "python3"
  },
  "language_info": {
   "codemirror_mode": {
    "name": "ipython",
    "version": 3
   },
   "file_extension": ".py",
   "mimetype": "text/x-python",
   "name": "python",
   "nbconvert_exporter": "python",
   "pygments_lexer": "ipython3",
   "version": "3.8.10"
  }
 },
 "nbformat": 4,
 "nbformat_minor": 5
}
